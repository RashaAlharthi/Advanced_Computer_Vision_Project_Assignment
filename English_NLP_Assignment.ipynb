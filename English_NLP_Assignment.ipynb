{
  "nbformat": 4,
  "nbformat_minor": 0,
  "metadata": {
    "colab": {
      "provenance": [],
      "collapsed_sections": [],
      "authorship_tag": "ABX9TyOdV/RoCPz6N+OiaZVbc9Kq",
      "include_colab_link": true
    },
    "kernelspec": {
      "name": "python3",
      "display_name": "Python 3"
    },
    "language_info": {
      "name": "python"
    }
  },
  "cells": [
    {
      "cell_type": "markdown",
      "metadata": {
        "id": "view-in-github",
        "colab_type": "text"
      },
      "source": [
        "<a href=\"https://colab.research.google.com/github/RashaAlharthi/Advanced_Computer_Vision_Project_Assignment/blob/main/English_NLP_Assignment.ipynb\" target=\"_parent\"><img src=\"https://colab.research.google.com/assets/colab-badge.svg\" alt=\"Open In Colab\"/></a>"
      ]
    },
    {
      "cell_type": "markdown",
      "source": [
        "# **BY: RASHA ALHARTHI**"
      ],
      "metadata": {
        "id": "WdBYsVzvzRVD"
      }
    },
    {
      "cell_type": "markdown",
      "source": [
        "### First I need to download packeges befor import it"
      ],
      "metadata": {
        "id": "m7K8BkI5ldK1"
      }
    },
    {
      "cell_type": "code",
      "source": [
        "import nltk\n",
        "nltk.download('stopwords') \n",
        "nltk.download('wordnet')\n",
        "nltk.download('omw-1.4')"
      ],
      "metadata": {
        "colab": {
          "base_uri": "https://localhost:8080/"
        },
        "id": "1LMtbhUDlj3X",
        "outputId": "790dd902-f53c-4511-d8d7-638c7f2f6232"
      },
      "execution_count": 29,
      "outputs": [
        {
          "output_type": "stream",
          "name": "stderr",
          "text": [
            "[nltk_data] Downloading package stopwords to /root/nltk_data...\n",
            "[nltk_data]   Package stopwords is already up-to-date!\n",
            "[nltk_data] Downloading package wordnet to /root/nltk_data...\n",
            "[nltk_data]   Package wordnet is already up-to-date!\n",
            "[nltk_data] Downloading package omw-1.4 to /root/nltk_data...\n"
          ]
        },
        {
          "output_type": "execute_result",
          "data": {
            "text/plain": [
              "True"
            ]
          },
          "metadata": {},
          "execution_count": 29
        }
      ]
    },
    {
      "cell_type": "markdown",
      "source": [
        "### Importing the needed packages"
      ],
      "metadata": {
        "id": "zU-MOliTWXMK"
      }
    },
    {
      "cell_type": "code",
      "source": [
        "#  Importing Libraries\n",
        "\n",
        "import matplotlib.pyplot as plt\n",
        "import pandas as pd\n",
        "import numpy as np\n",
        "import os\n",
        "import re\n",
        "import string\n",
        "import sys\n",
        "\n",
        "from wordcloud import WordCloud, STOPWORDS\n",
        "from PIL import Image\n",
        "\n",
        "from nltk.sentiment.vader import SentimentIntensityAnalyzer\n",
        "from nltk.stem import PorterStemmer\n",
        "from nltk.stem import WordNetLemmatizer \n",
        "from nltk.corpus import stopwords\n",
        "\n",
        "from sklearn.feature_extraction.text import CountVectorizer\n",
        "from textblob import TextBlob\n",
        "\n",
        "# Scikit-learn\n",
        "from sklearn.model_selection import train_test_split\n",
        "from sklearn.metrics import plot_confusion_matrix,classification_report\n",
        "from sklearn.naive_bayes import MultinomialNB\n",
        "from sklearn.linear_model import LogisticRegression\n",
        "from sklearn.svm import SVC\n",
        "from sklearn.ensemble import RandomForestClassifier"
      ],
      "metadata": {
        "id": "0nDgf9fUQl8-"
      },
      "execution_count": 97,
      "outputs": []
    },
    {
      "cell_type": "markdown",
      "source": [
        "### Get the dataset"
      ],
      "metadata": {
        "id": "UoLDkxPLQmRu"
      }
    },
    {
      "cell_type": "code",
      "execution_count": 44,
      "metadata": {
        "id": "TNGcaZ96NYVZ"
      },
      "outputs": [],
      "source": [
        "FinancialBank_df = pd.read_csv(\"all-data.csv\", names=['Sentiment','News'], encoding=\"ISO-8859-1\")"
      ]
    },
    {
      "cell_type": "markdown",
      "source": [
        "### About the datset"
      ],
      "metadata": {
        "id": "rLXl1-23Q_OD"
      }
    },
    {
      "cell_type": "code",
      "source": [
        "print('\\033[1m' + '------------------ Shape ------------------' + '\\033[0m')\n",
        "print(FinancialBank_df.shape)\n",
        "print('\\033[1m' + '------------------ Types ------------------' + '\\033[0m')\n",
        "print(FinancialBank_df.dtypes)\n",
        "print('\\033[1m' + '------------------ Head ------------------' + '\\033[0m')\n",
        "print(FinancialBank_df.head())\n",
        "print('\\033[1m' + '------------------ Tail ------------------' + '\\033[0m')\n",
        "print(FinancialBank_df.head())\n",
        "print('\\033[1m' + '--------------- Unique Elements ---------------' + '\\033[0m')\n",
        "print(FinancialBank_df.nunique())\n",
        "print('\\033[1m' + '------------------ NA ------------------' + '\\033[0m')\n",
        "print(FinancialBank_df.isnull().sum())\n",
        "print('\\033[1m' + '------------------ Quantiles ------------------' + '\\033[0m')\n",
        "print(FinancialBank_df.describe([0, 0.05, 0.50, 0.95, 0.99, 1]).T)\n",
        "print('\\033[1m' + '------------------ Sample ------------------' + '\\033[0m')\n",
        "print(FinancialBank_df.sample(5))"
      ],
      "metadata": {
        "colab": {
          "base_uri": "https://localhost:8080/"
        },
        "id": "qb5gcwhtRD75",
        "outputId": "7d8eb2bd-63ce-4b47-f97f-a13afda70751"
      },
      "execution_count": 7,
      "outputs": [
        {
          "output_type": "stream",
          "name": "stdout",
          "text": [
            "\u001b[1m------------------ Shape ------------------\u001b[0m\n",
            "(4846, 2)\n",
            "\u001b[1m------------------ Types ------------------\u001b[0m\n",
            "Sentiment    object\n",
            "News         object\n",
            "dtype: object\n",
            "\u001b[1m------------------ Head ------------------\u001b[0m\n",
            "  Sentiment                                               News\n",
            "0   neutral  According to Gran , the company has no plans t...\n",
            "1   neutral  Technopolis plans to develop in stages an area...\n",
            "2  negative  The international electronic industry company ...\n",
            "3  positive  With the new production plant the company woul...\n",
            "4  positive  According to the company 's updated strategy f...\n",
            "\u001b[1m------------------ Tail ------------------\u001b[0m\n",
            "  Sentiment                                               News\n",
            "0   neutral  According to Gran , the company has no plans t...\n",
            "1   neutral  Technopolis plans to develop in stages an area...\n",
            "2  negative  The international electronic industry company ...\n",
            "3  positive  With the new production plant the company woul...\n",
            "4  positive  According to the company 's updated strategy f...\n",
            "\u001b[1m--------------- Unique Elements ---------------\u001b[0m\n",
            "Sentiment       3\n",
            "News         4838\n",
            "dtype: int64\n",
            "\u001b[1m------------------ NA ------------------\u001b[0m\n",
            "Sentiment    0\n",
            "News         0\n",
            "dtype: int64\n",
            "\u001b[1m------------------ Quantiles ------------------\u001b[0m\n",
            "          count unique                                                top  \\\n",
            "Sentiment  4846      3                                            neutral   \n",
            "News       4846   4838  TELECOMWORLDWIRE-7 April 2006-TJ Group Plc sel...   \n",
            "\n",
            "           freq  \n",
            "Sentiment  2879  \n",
            "News          2  \n",
            "\u001b[1m------------------ Sample ------------------\u001b[0m\n",
            "     Sentiment                                               News\n",
            "4691  negative  Net profit fell by almost half to +â 5.5 milli...\n",
            "1406   neutral  The Oxyview Pulse Oximeter is a common device ...\n",
            "3743   neutral  Sampo Group that has become a major shareholde...\n",
            "1327   neutral  RFID ( Radio Frequency Identification ) is a m...\n",
            "117   positive  Operating profit margin increased from 11.2 % ...\n"
          ]
        }
      ]
    },
    {
      "cell_type": "markdown",
      "source": [
        "###  NLP preprocessing"
      ],
      "metadata": {
        "id": "lRdgAIvYRGbq"
      }
    },
    {
      "cell_type": "code",
      "source": [
        "# Cleaning steps \n",
        "\n",
        "lm = WordNetLemmatizer()\n",
        "ps = PorterStemmer()\n",
        "# Text preprocessing\n",
        "#corpous = list()\n",
        "def news_clean(text):\n",
        "    \n",
        "    # Remove unnessary charcters\n",
        "  #text = re.sub('(<br/>)&&(<a).*(>).*(</a>)&&(&amp)&&(&gt)&&(&lt)&&(\\xa0)',' ',text)\n",
        "  text = re.sub('[^a-zA-Z]',' ',text)\n",
        "\n",
        "    # lowers the text --> no capitalization\n",
        "  text = str(text).lower()\n",
        "\n",
        "  text_list = text.split()\n",
        "    \n",
        "    # Applying lemmatizers and stop words removal \n",
        "  text_list =  [lm.lemmatize(word) for word in text_list if not word in set(stopwords.words('english')) and len(word) > 1 ]\n",
        "  text = ' '.join(text_list)\n",
        " # corpous.append(text)\n",
        "  return text\n",
        "\n",
        "\n",
        "# Applying the cleaning function to all news\n",
        "\n",
        "corpous= []\n",
        "for it in list(FinancialBank_df['News']):\n",
        "    text = news_clean(it)\n",
        "    corpous.append(text)"
      ],
      "metadata": {
        "id": "N1I8CnYRRhyh"
      },
      "execution_count": 46,
      "outputs": []
    },
    {
      "cell_type": "code",
      "source": [
        "FinancialBank_df[\"target\"] = FinancialBank_df[\"Sentiment\"].map({\"positive\": 1, \"neutral\":0, \"negative\": -1})"
      ],
      "metadata": {
        "id": "J6fmPvJLXlk-"
      },
      "execution_count": 47,
      "outputs": []
    },
    {
      "cell_type": "code",
      "source": [
        "# Converting words into numbers for applying the machine learning model (Vectorization)\n",
        "cv = CountVectorizer(max_features=5000,ngram_range=(1,3))\n",
        "X = cv.fit_transform(corpous).toarray()\n",
        "# Dependent Feature\n",
        "y = FinancialBank_df.target"
      ],
      "metadata": {
        "id": "-emySjhffWyc"
      },
      "execution_count": 48,
      "outputs": []
    },
    {
      "cell_type": "markdown",
      "source": [
        "### Splitting the data for the ML Model"
      ],
      "metadata": {
        "id": "LkMERbikRhEI"
      }
    },
    {
      "cell_type": "code",
      "source": [
        "X_train,X_test,y_train,y_test = train_test_split(X,y,test_size=0.2,random_state=43)"
      ],
      "metadata": {
        "id": "Vw9RLl4QiTLG"
      },
      "execution_count": 49,
      "outputs": []
    },
    {
      "cell_type": "markdown",
      "source": [
        "### Building ML Models"
      ],
      "metadata": {
        "id": "ykoX7eP1ikGn"
      }
    },
    {
      "cell_type": "code",
      "source": [
        "# Build Models\n",
        "\n",
        "models = {\n",
        "    MultinomialNB():'Multinomial Naive Bayes',\n",
        "    LogisticRegression(max_iter=300):'Logistic Regression',\n",
        "    SVC(C=1.0, kernel='linear', degree=3, gamma='auto'):\"Support Vector Machine\"\n",
        "}\n",
        "for m in models.keys():\n",
        "    m.fit(X_train,y_train)"
      ],
      "metadata": {
        "id": "N5DApESvim-8"
      },
      "execution_count": 50,
      "outputs": []
    },
    {
      "cell_type": "code",
      "source": [
        "# Check Accuracy for each model\n",
        "for model,name in models.items():\n",
        "     print(f\"Accuracy Score for {name} is : \",model.score(X_test,y_test)*100,\"%\")"
      ],
      "metadata": {
        "colab": {
          "base_uri": "https://localhost:8080/"
        },
        "id": "AhlrxSqSi5tM",
        "outputId": "4143c58a-9f07-4a3f-c094-5773f5dd1e59"
      },
      "execution_count": 51,
      "outputs": [
        {
          "output_type": "stream",
          "name": "stdout",
          "text": [
            "Accuracy Score for Multinomial Naive Bayes is :  68.35051546391753 %\n",
            "Accuracy Score for Logistic Regression is :  74.43298969072166 %\n",
            "Accuracy Score for Support Vector Machine is :  70.0 %\n"
          ]
        }
      ]
    },
    {
      "cell_type": "markdown",
      "source": [
        "### Use the trained model for single inference cases and check the results."
      ],
      "metadata": {
        "id": "g4s3xg9Li6Wg"
      }
    },
    {
      "cell_type": "code",
      "source": [
        "preds = [] # {0: Multinomial Naive Bayes, 1: Logistic Regression, 2: Support Vector Machine}\n",
        "for m in models.keys():\n",
        "    preds.append(m.predict(X_test))"
      ],
      "metadata": {
        "id": "JzHPm62doGLM"
      },
      "execution_count": 57,
      "outputs": []
    },
    {
      "cell_type": "code",
      "source": [
        "# to look at the predictions\n",
        "preds"
      ],
      "metadata": {
        "colab": {
          "base_uri": "https://localhost:8080/"
        },
        "id": "309GgJSUtUzy",
        "outputId": "2a5b22d3-e142-40b5-e5f5-1ed385bb9faf"
      },
      "execution_count": 72,
      "outputs": [
        {
          "output_type": "execute_result",
          "data": {
            "text/plain": [
              "[array([ 0,  0,  0,  0,  0,  0,  1,  0,  0,  0,  0,  0,  0,  0, -1,  0,  0,\n",
              "        -1,  0, -1, -1, -1,  0,  0,  0,  0, -1,  0,  0, -1,  0,  0,  0,  0,\n",
              "         0,  0,  0,  0,  0,  0,  0,  0,  0,  0,  1,  0,  0,  0,  0, -1,  0,\n",
              "        -1,  0,  0,  0,  0,  0,  0,  0,  0,  0,  0,  0, -1,  0, -1,  0,  0,\n",
              "         0,  0,  0,  0,  0,  0,  0,  0,  0,  0,  1,  0,  0,  0,  0, -1,  0,\n",
              "         0,  0,  0,  0,  1,  1,  0,  0,  1,  0, -1, -1,  0,  1, -1,  0,  0,\n",
              "         0,  0,  0,  0,  0,  0,  0, -1,  0,  1,  0,  1, -1,  1,  0,  0, -1,\n",
              "         0,  0,  0,  0, -1,  0,  0,  0,  0,  0,  0, -1,  1,  1,  0,  1,  0,\n",
              "         0,  0,  0,  0,  0,  0,  0,  0,  0,  1, -1,  0,  0,  0,  0,  1,  0,\n",
              "         0,  0,  1,  0,  0,  0,  0,  0,  0,  0,  0,  0,  1,  1,  0,  0,  1,\n",
              "         0,  0, -1,  0,  0,  0, -1, -1,  0,  0, -1,  0,  0,  0,  0,  0,  0,\n",
              "         0,  0, -1,  0, -1,  0,  0,  0,  0,  0,  0,  1, -1,  1,  0,  1,  0,\n",
              "         0,  1,  0,  0,  0,  0,  0,  0,  0, -1,  0,  0,  0,  1,  0,  0,  1,\n",
              "         0,  0,  1,  1,  0,  0,  0,  1,  0,  0,  1,  0, -1,  0,  1, -1,  0,\n",
              "         1,  0,  0,  1,  0,  0,  1,  1,  0,  0,  0,  0,  0,  0,  1,  0,  0,\n",
              "         0,  0,  0,  0, -1,  0,  0,  0, -1,  0,  0, -1,  0,  0,  0,  0,  0,\n",
              "         0,  0,  0,  0,  1,  0,  0,  0,  0,  0,  0,  0,  0, -1,  0,  0, -1,\n",
              "         0,  1,  0,  0,  1,  0,  0,  0,  0,  0,  0,  0,  0, -1,  0,  0,  0,\n",
              "         0,  0,  0,  0,  0,  1,  0,  0,  0,  0,  1,  0,  0,  0,  0,  0,  0,\n",
              "         0,  1,  0, -1, -1,  0,  1,  0, -1,  1,  0,  0,  0, -1,  1, -1,  1,\n",
              "         1,  1,  0,  1,  1,  0,  0,  0, -1,  0,  0,  0,  1,  0,  0,  0,  1,\n",
              "         0,  0,  0, -1,  1,  0,  1,  1,  0, -1,  0, -1,  0,  0,  0,  0, -1,\n",
              "         0,  0,  0, -1,  0,  0, -1,  0,  0,  0,  1,  0,  0,  0,  1,  0,  0,\n",
              "         0,  0,  1,  0,  1,  0,  1,  0,  0,  0,  0,  0,  0,  0, -1, -1,  0,\n",
              "         0, -1,  0,  0,  0,  1,  0,  0,  0, -1,  1, -1, -1,  1,  0, -1,  0,\n",
              "         0,  0, -1, -1,  0,  0,  0,  0,  0,  0,  0, -1,  0,  0,  0,  1,  0,\n",
              "         0, -1,  0, -1,  0,  0,  0,  0,  0,  0,  1,  0,  0,  0,  0,  1, -1,\n",
              "         0,  1,  0,  0,  0,  0, -1,  0, -1,  1,  0,  0, -1,  0,  0,  0,  0,\n",
              "         0,  1,  0,  0,  0,  0,  0, -1,  0,  0, -1,  1,  1,  0,  0,  0,  0,\n",
              "         0,  0,  0,  0,  0,  0,  0,  0,  0,  0,  0,  0, -1,  0,  0,  0,  0,\n",
              "         0, -1, -1,  1,  0,  1,  0,  0,  0,  0, -1,  0,  1,  0,  1,  0,  0,\n",
              "         0,  0,  0,  0,  0,  1,  0,  0,  0,  0,  0,  0,  1,  0,  0,  0,  0,\n",
              "         0,  1,  0,  0,  1, -1,  0,  0,  1,  0, -1,  0,  1,  0,  0,  1,  0,\n",
              "         0,  1,  0,  0, -1,  1,  0,  0,  1,  0, -1,  0, -1,  0,  0, -1,  0,\n",
              "         0,  0, -1,  0, -1,  1,  0,  0,  1,  0,  0,  1,  1,  0,  0,  0,  0,\n",
              "         0,  0,  0,  0,  0,  0,  0,  1,  0,  0,  0,  0,  0,  0,  0, -1,  0,\n",
              "         0,  0,  0,  1,  0, -1,  0,  0,  0,  0,  0,  0,  0,  0,  0,  0, -1,\n",
              "         1,  0,  0, -1,  0,  0,  0,  0,  0,  0,  1,  1,  0,  1,  0, -1,  0,\n",
              "        -1,  0,  1,  0, -1,  0,  0,  0,  1,  1,  0,  0,  0, -1,  0,  0,  0,\n",
              "         1,  0,  0,  0, -1,  0,  0,  0,  1,  0,  0,  0,  0,  1,  0,  1,  0,\n",
              "         0,  0,  1,  0, -1,  0,  1,  0,  0,  0, -1,  0,  1,  1,  1,  0,  1,\n",
              "        -1,  1,  1,  0,  0,  1,  1,  0,  0, -1, -1,  1,  0,  0,  0,  0,  0,\n",
              "        -1,  1,  0, -1,  0,  1,  0,  0,  0,  0,  0,  1,  0,  1,  0,  0,  0,\n",
              "         0, -1,  0,  0,  0, -1,  0,  0,  1,  0,  0,  0, -1,  0,  0,  1,  1,\n",
              "         0,  1, -1,  0,  0,  0,  0, -1,  1,  0,  1, -1,  0,  1,  0,  1,  1,\n",
              "         1,  1,  0,  0,  1,  0, -1,  0,  0,  0,  1, -1,  0,  0,  0, -1,  0,\n",
              "         1,  1, -1,  0,  0,  0,  0,  0,  0,  0,  0,  0,  0,  1,  0,  0,  0,\n",
              "         0,  0, -1, -1,  0,  0,  1,  0,  1,  0,  0,  0, -1,  0, -1, -1,  0,\n",
              "         0,  0,  1,  0, -1,  0,  0,  0,  0,  0,  0,  0,  0,  0,  0,  0,  0,\n",
              "         0,  1,  0,  0, -1,  0,  1,  0,  0,  0,  0,  1,  0,  0,  0,  0,  0,\n",
              "         1,  0,  0, -1,  0,  0, -1,  0,  0,  0,  0,  0,  0,  0,  0,  0,  1,\n",
              "         0,  0,  0,  1,  1,  0,  0,  0,  0,  0,  0,  0, -1,  0,  0, -1,  0,\n",
              "         0,  0,  1,  0,  1,  0,  0,  0,  0,  0,  0,  0,  0,  1,  0, -1,  0,\n",
              "         0, -1,  0,  0,  0,  0,  0,  1,  0,  0,  0,  0,  0,  1,  0,  0,  0,\n",
              "         1,  0,  0,  0,  0, -1,  1,  0,  1, -1,  0,  0,  0,  0,  0,  1,  0,\n",
              "         0,  1, -1,  0,  1,  0,  0,  0,  0,  1,  0,  1,  1,  0, -1,  1, -1,\n",
              "         0,  1,  0,  0,  1,  0,  0,  0,  0,  0,  0,  1,  0, -1, -1,  0, -1,\n",
              "        -1]),\n",
              " array([ 0,  0,  0,  1,  0,  0,  1,  0,  0,  1,  0,  0,  0,  0, -1,  0,  0,\n",
              "         0,  0, -1, -1, -1,  0,  0,  0,  0, -1,  0,  0, -1,  0,  0,  0,  0,\n",
              "         0,  0,  0,  0,  0,  0,  0,  0,  0,  0,  1,  0,  0,  0,  0,  0,  0,\n",
              "        -1,  0,  0,  0,  0,  0,  0,  0,  0,  1,  0,  0, -1,  0, -1,  0,  1,\n",
              "         0,  1,  0,  1,  0,  0,  1,  0,  0,  0,  1,  0,  0,  0,  1, -1,  0,\n",
              "         0,  0,  0, -1,  1,  1,  1,  1,  0,  0,  0, -1,  1,  1,  0,  0,  0,\n",
              "         0,  0,  0,  0,  0,  0,  0,  0,  1,  1,  1,  0,  0,  0,  0,  0, -1,\n",
              "         0,  0, -1,  0,  1,  0,  0,  0,  0,  0,  0,  1,  1,  1,  0,  1,  0,\n",
              "         0,  1,  0,  0,  0,  0,  0,  0,  0,  1, -1,  1,  0,  1,  0,  1,  0,\n",
              "         0,  0,  1,  0,  0,  0,  0,  0,  0,  0,  0,  0,  1,  0,  0,  0,  0,\n",
              "         0,  0, -1,  0,  0,  0, -1, -1,  1,  1,  0,  0,  0,  1,  1,  0,  0,\n",
              "         0,  0, -1,  0, -1,  0,  0,  0,  0,  1,  0,  1, -1,  1,  0,  1,  1,\n",
              "         1,  1,  0,  0,  0,  0,  0,  1,  0,  1, -1,  0,  0,  1,  0,  0,  1,\n",
              "         0,  1,  0,  1,  0,  0,  1,  1,  0,  0,  1,  0,  1,  0, -1,  0, -1,\n",
              "         1,  0,  0,  1,  0,  0,  0,  0,  0,  0,  0,  0,  0,  0,  1,  0,  0,\n",
              "         0,  0,  0,  0, -1,  0,  0,  0, -1,  1,  0,  1,  0,  0,  1,  0,  0,\n",
              "         0,  0,  0,  0, -1,  1,  0,  0,  0,  0,  0,  0,  0, -1,  1,  1,  0,\n",
              "         0,  0,  1,  0,  0,  0,  0,  0,  0,  0,  0,  0,  0, -1,  0,  0,  0,\n",
              "         0,  0,  0,  0,  0,  1,  0,  0,  0,  0,  1,  0,  0,  0,  0,  1,  0,\n",
              "         0,  0,  0, -1, -1,  0,  1,  0, -1,  1,  0,  0,  1, -1,  1,  1,  0,\n",
              "         1,  1,  0,  1,  1,  0,  0,  0,  0,  0,  1,  0,  0,  0,  0,  0,  1,\n",
              "         0,  0,  0,  0,  0,  0,  1,  1,  0, -1,  0,  1,  0,  1,  0,  0, -1,\n",
              "         0,  0,  0, -1,  0,  0, -1,  0,  0,  0,  1,  0,  0,  0,  0,  0,  0,\n",
              "         0,  1,  1,  0,  1,  0,  0,  1,  0,  0,  0,  0,  1,  0,  1, -1,  0,\n",
              "         0, -1,  0,  0,  0,  1,  0,  0,  0,  0,  1,  1,  1,  1,  0, -1,  0,\n",
              "         0,  0,  0,  1,  1,  0,  0,  0,  0,  0,  0,  0,  0,  0,  0,  1,  0,\n",
              "         0,  0,  0, -1,  0,  0,  0,  0,  1,  0,  1, -1,  0,  0,  0,  1, -1,\n",
              "         0,  1,  0,  0,  0,  0,  0,  0,  1,  1,  0,  0, -1,  0,  1,  0,  0,\n",
              "         0,  1,  0,  0,  0,  0,  0,  1,  1,  0, -1,  1,  1,  0,  0,  0,  0,\n",
              "         0,  1,  0,  0,  0,  0,  0,  0,  0,  0,  0,  0,  1,  0,  0,  0,  0,\n",
              "         0, -1,  0,  0,  0,  1,  0,  0,  0,  0,  1,  0,  0,  0,  0,  0,  0,\n",
              "         0,  1,  0,  0,  0,  1,  1,  0,  0,  0, -1,  0,  1,  1,  0,  0,  0,\n",
              "         0, -1,  0,  0,  1,  0,  0,  0,  1,  0, -1,  0,  1,  0,  0,  0,  0,\n",
              "         0,  0,  1,  0, -1,  1,  0,  1,  1,  0, -1,  1, -1,  0,  0,  0,  0,\n",
              "         0,  0, -1,  0, -1,  0,  0,  0,  1,  0,  0, -1,  0,  0,  0,  0,  0,\n",
              "         0,  0,  0,  0,  0,  0,  0,  1,  0,  0,  0,  0,  0,  0,  0,  0,  0,\n",
              "         1,  0,  0,  1,  0, -1,  0,  0,  0,  0,  0,  0,  0,  0,  0,  0, -1,\n",
              "         1,  0,  0,  0,  0,  0,  0,  0,  0,  0,  0,  1,  0,  1,  0,  0,  0,\n",
              "        -1,  0,  0,  0,  1,  0,  0,  0,  1,  1,  0,  0,  0, -1,  0,  0,  0,\n",
              "         1,  0,  0,  0, -1,  1,  0,  0,  0,  1,  0,  0,  0,  1,  0,  1,  0,\n",
              "         0,  0,  0,  1,  1,  0,  0,  0,  0,  1, -1,  0,  1,  1,  1,  1,  0,\n",
              "        -1, -1,  0,  0,  0,  0,  1,  0,  0,  0,  0,  1,  0,  0,  0,  1,  0,\n",
              "         0,  1,  0, -1,  0,  1,  0,  0,  0,  0,  0,  0,  0,  1,  0,  0,  0,\n",
              "         0, -1,  0,  0,  0,  1,  0,  0,  1,  1,  0,  0, -1,  1,  1,  1,  0,\n",
              "         0, -1, -1,  0,  0,  0,  0, -1,  1,  0,  0,  0,  0,  1, -1,  0,  1,\n",
              "         0,  1, -1,  1,  1,  0, -1,  0,  0,  0,  1,  0,  0,  0,  0, -1,  0,\n",
              "         1,  1,  1,  0,  0,  0,  0,  0,  0,  1,  0,  0,  0,  1,  0,  0,  1,\n",
              "         0,  0,  0,  0,  0,  0,  1,  0,  1,  0,  0,  0,  1,  0, -1,  0,  0,\n",
              "         0,  0,  1,  0,  1,  0,  0,  0,  0,  0,  0,  0,  0,  0,  1,  0,  0,\n",
              "         0,  1,  0,  0, -1,  0,  1,  0,  0,  1,  1,  1,  0,  0,  0,  0,  0,\n",
              "         0,  0,  1,  0,  0,  0,  1,  0,  0,  1,  0,  0,  0,  0,  0,  0,  0,\n",
              "         0,  0,  1,  1,  1,  0,  0,  0,  0,  0,  0,  0,  0,  0,  0, -1,  0,\n",
              "         0,  0,  1,  0,  1,  0,  0,  0,  0,  0,  0,  0,  0,  1,  0,  1,  0,\n",
              "         0,  1,  0,  0,  0,  0,  0,  1,  0,  0,  0,  1,  0,  1,  0,  0,  0,\n",
              "         1,  0,  0,  0,  0, -1,  1,  0,  0, -1,  0,  0,  0,  0,  0,  0,  0,\n",
              "         0,  1, -1,  0,  1,  0,  1,  0,  0,  1,  0,  1,  1,  0, -1,  1, -1,\n",
              "         0,  1,  0,  0,  0,  0,  0,  0,  0,  0,  0,  1,  0, -1, -1,  0, -1,\n",
              "        -1]),\n",
              " array([ 0,  0,  0,  0,  0,  0,  0,  0,  1,  1,  0,  0,  0,  0,  1,  0,  0,\n",
              "         0,  0, -1, -1, -1,  0,  0,  0,  1, -1,  1,  0, -1,  0,  0, -1,  0,\n",
              "         0,  0,  0,  0,  0,  1,  0,  0,  0,  0,  1,  0,  0,  0,  0,  0,  0,\n",
              "        -1,  0,  0,  1,  0,  0,  0,  1,  0,  1,  0,  0, -1,  0, -1,  0,  1,\n",
              "         0,  1,  0,  1,  0,  0,  1,  0,  0,  0,  1,  0,  0,  0,  1, -1,  0,\n",
              "         0,  0,  0, -1,  1,  1,  1,  1,  0,  0, -1, -1,  1,  1,  0,  0,  0,\n",
              "         0,  0,  0,  0,  0,  0,  0,  0,  1,  1,  0,  0,  0,  0,  0,  0, -1,\n",
              "         0,  0, -1,  0, -1,  0,  0,  0,  0,  0,  0,  1,  1,  1,  0,  1,  0,\n",
              "         0,  0, -1,  0,  0,  0,  0,  0,  1,  1, -1,  1,  0,  0,  0,  1,  0,\n",
              "         0,  0,  1,  0,  0,  0,  0,  0,  0, -1,  0,  0,  1,  0,  0,  0,  0,\n",
              "         0,  0, -1,  0,  0,  0, -1, -1,  1,  1,  0,  0,  0,  1,  1,  0,  0,\n",
              "         0,  0, -1,  0, -1,  0,  0,  0,  0,  1,  0,  1,  1,  1,  0,  1,  1,\n",
              "         1, -1,  0,  0,  0,  0, -1,  0,  0,  1, -1,  0,  0,  1, -1,  0,  1,\n",
              "         1,  1,  1,  1,  0,  0,  1,  1,  0,  0,  1,  0,  1,  0, -1,  0, -1,\n",
              "         1,  1,  0, -1,  0,  0,  0,  0,  1,  0,  0,  0,  0,  0,  1,  0,  0,\n",
              "         0,  0,  1,  0, -1,  0,  0,  0, -1,  1,  0,  1,  0, -1,  0,  0,  0,\n",
              "        -1,  0,  0,  0, -1,  1,  1,  0,  0,  0,  0,  0,  0, -1,  1,  0,  0,\n",
              "         0,  0,  1,  0,  0,  0,  0,  0,  0,  0,  0,  0,  0, -1,  0,  0,  0,\n",
              "         0,  0,  0,  0,  0,  1,  0,  0,  0,  0,  1,  0,  0,  0,  0,  1,  0,\n",
              "         0,  0, -1,  0, -1,  0,  1,  0, -1,  1,  0,  0,  1, -1,  1,  1,  0,\n",
              "        -1,  1,  0,  1,  1,  0,  0,  0,  0,  0,  1,  0,  0,  0,  0,  0,  1,\n",
              "         0,  1,  0,  0,  0,  0,  1,  1,  0,  1,  0,  1,  0,  1,  0,  0, -1,\n",
              "         0,  0,  0, -1,  1,  0, -1,  0,  0,  0,  0,  0,  0,  0,  0,  0,  0,\n",
              "         1,  1,  1,  0,  1,  0,  0,  0,  0,  0,  0,  0,  1,  0,  1, -1,  0,\n",
              "         0, -1,  0,  0,  0,  1, -1,  0,  0,  0,  1,  1,  1,  1,  0, -1,  0,\n",
              "         0,  0,  0,  1,  1,  1,  0,  0,  1,  0,  0,  0,  1,  0,  1,  1,  1,\n",
              "         1,  0,  0, -1,  0,  0,  0,  0,  1,  1,  1, -1,  0,  0,  0,  1, -1,\n",
              "         0,  1,  0,  0,  0,  0,  0,  0,  1,  1,  0,  0,  0,  0,  1,  0,  1,\n",
              "         0, -1,  1,  0,  0,  0,  0,  1,  1,  0,  0,  1,  1,  0,  0,  0,  0,\n",
              "         0,  0,  0,  0,  0,  0, -1,  0,  0,  0,  1,  0,  1,  0,  0,  0,  0,\n",
              "        -1, -1,  0,  0,  0, -1,  0,  1,  0,  0,  1,  0,  0,  0,  0,  0,  1,\n",
              "         0,  1,  0,  0,  0,  0, -1,  0,  0,  0, -1,  0,  1,  1,  0,  0,  1,\n",
              "         0, -1,  0,  0,  1, -1,  0,  0,  1,  0, -1,  0,  1,  0,  0,  0, -1,\n",
              "         0,  0,  1,  0, -1,  1,  0,  1,  1,  0, -1,  1, -1,  0,  0,  0,  0,\n",
              "         0,  0, -1,  0, -1,  0,  0,  0,  1,  0,  0,  1,  1,  0,  0,  0,  0,\n",
              "         1,  0,  0,  0,  0,  0,  0,  1,  0,  0,  0,  0,  0,  0,  0,  0,  1,\n",
              "        -1,  1,  0,  1,  0, -1, -1,  0,  0,  0,  0,  0,  0,  0,  0,  0, -1,\n",
              "         1,  0,  0,  0,  0,  0,  0,  0,  0,  0,  0,  1,  0,  1,  0,  0,  0,\n",
              "        -1,  0,  0,  0,  1,  1,  0,  1,  1, -1,  0,  0,  0, -1,  0,  0,  0,\n",
              "         0,  0,  0,  0, -1,  1,  0, -1,  0,  1,  0,  0,  0,  1,  0,  1,  0,\n",
              "         0,  0,  0,  1, -1,  0,  0,  0,  0,  1, -1,  0,  1,  1,  1,  1,  0,\n",
              "        -1, -1,  0,  0,  0,  0,  1,  0,  0,  0,  0,  1,  0,  0,  0,  1,  0,\n",
              "         0,  1,  0, -1,  0,  1,  0,  0,  0,  0,  0,  1,  0,  1,  0,  1,  0,\n",
              "         0,  0,  0,  0,  0,  1,  0,  0,  0,  1,  1,  0, -1,  1,  1,  1,  0,\n",
              "         0, -1, -1,  0,  0,  0,  0, -1,  1,  0, -1,  0,  0,  1, -1,  0,  1,\n",
              "         0,  1, -1,  1,  1,  0, -1,  0,  0,  0,  1,  0,  0,  0,  0,  1,  0,\n",
              "         1,  1,  1,  0,  0,  1,  0,  1,  0,  1,  0,  0,  0,  1,  0,  0,  1,\n",
              "         0,  0,  0,  0,  0,  0,  1,  0, -1,  0,  0,  0,  0,  0, -1,  0,  0,\n",
              "         0,  0,  1,  0, -1,  0,  0,  0,  0,  0,  0,  0,  0,  0,  0,  0,  0,\n",
              "         0,  1,  0,  0, -1,  0,  1,  0,  0,  1,  1,  1,  0,  0,  0,  0,  0,\n",
              "         0,  0,  1,  0,  0,  0,  1,  0,  0, -1,  0,  0,  0,  1,  0,  0,  0,\n",
              "         1,  0,  1,  1,  1,  0,  0,  0,  0,  0,  1,  0, -1,  0,  0, -1,  0,\n",
              "         0,  0, -1,  0,  1,  1,  0,  1,  0,  0,  0,  0,  0,  1,  0,  1,  0,\n",
              "         0,  1,  1,  0,  0,  0,  0,  1,  0,  0,  1,  1,  0, -1,  0,  0,  0,\n",
              "        -1,  0,  0,  0,  0, -1,  1,  0,  0, -1,  0,  1,  0,  0,  0,  0, -1,\n",
              "         0,  1, -1,  0,  1,  0,  1,  1,  0,  1, -1,  1,  0,  0, -1,  1, -1,\n",
              "         0,  1,  1,  0,  1,  0,  0,  0,  0,  0,  0,  1,  0, -1, -1,  0, -1,\n",
              "        -1])]"
            ]
          },
          "metadata": {},
          "execution_count": 72
        }
      ]
    },
    {
      "cell_type": "code",
      "source": [
        "# testing the first value in the test set with the first value in the predcited result from the best model\n",
        "## The predicted value matched the actual value in the single inference\n",
        "(y_test[0] == preds[1][0])"
      ],
      "metadata": {
        "colab": {
          "base_uri": "https://localhost:8080/"
        },
        "id": "fnwR7PXLrtP7",
        "outputId": "c4a6420f-a824-4401-be15-dbf79ac324cd"
      },
      "execution_count": 67,
      "outputs": [
        {
          "output_type": "execute_result",
          "data": {
            "text/plain": [
              "True"
            ]
          },
          "metadata": {},
          "execution_count": 67
        }
      ]
    },
    {
      "cell_type": "markdown",
      "source": [
        "### Here I will make the prediction for all the rows"
      ],
      "metadata": {
        "id": "_MAADlJ7totL"
      }
    },
    {
      "cell_type": "code",
      "source": [
        "test_dataset = pd.DataFrame()\n",
        "\n",
        "test_dataset['Actual_target'] = y_test.to_numpy()\n",
        "test_dataset['Predict_target'] = preds[1] # the best model in index 1\n",
        "\n",
        "test_dataset.head()"
      ],
      "metadata": {
        "colab": {
          "base_uri": "https://localhost:8080/",
          "height": 206
        },
        "id": "iX8_fajkpKfc",
        "outputId": "b06546b2-e9ba-4ebb-abeb-fbf34be17bb3"
      },
      "execution_count": 70,
      "outputs": [
        {
          "output_type": "execute_result",
          "data": {
            "text/plain": [
              "   Actual_target  Predict_target\n",
              "0              0               0\n",
              "1              1               0\n",
              "2              1               0\n",
              "3              0               1\n",
              "4              0               0"
            ],
            "text/html": [
              "\n",
              "  <div id=\"df-39bc4139-72bb-46c5-826c-fcdeb4c412f3\">\n",
              "    <div class=\"colab-df-container\">\n",
              "      <div>\n",
              "<style scoped>\n",
              "    .dataframe tbody tr th:only-of-type {\n",
              "        vertical-align: middle;\n",
              "    }\n",
              "\n",
              "    .dataframe tbody tr th {\n",
              "        vertical-align: top;\n",
              "    }\n",
              "\n",
              "    .dataframe thead th {\n",
              "        text-align: right;\n",
              "    }\n",
              "</style>\n",
              "<table border=\"1\" class=\"dataframe\">\n",
              "  <thead>\n",
              "    <tr style=\"text-align: right;\">\n",
              "      <th></th>\n",
              "      <th>Actual_target</th>\n",
              "      <th>Predict_target</th>\n",
              "    </tr>\n",
              "  </thead>\n",
              "  <tbody>\n",
              "    <tr>\n",
              "      <th>0</th>\n",
              "      <td>0</td>\n",
              "      <td>0</td>\n",
              "    </tr>\n",
              "    <tr>\n",
              "      <th>1</th>\n",
              "      <td>1</td>\n",
              "      <td>0</td>\n",
              "    </tr>\n",
              "    <tr>\n",
              "      <th>2</th>\n",
              "      <td>1</td>\n",
              "      <td>0</td>\n",
              "    </tr>\n",
              "    <tr>\n",
              "      <th>3</th>\n",
              "      <td>0</td>\n",
              "      <td>1</td>\n",
              "    </tr>\n",
              "    <tr>\n",
              "      <th>4</th>\n",
              "      <td>0</td>\n",
              "      <td>0</td>\n",
              "    </tr>\n",
              "  </tbody>\n",
              "</table>\n",
              "</div>\n",
              "      <button class=\"colab-df-convert\" onclick=\"convertToInteractive('df-39bc4139-72bb-46c5-826c-fcdeb4c412f3')\"\n",
              "              title=\"Convert this dataframe to an interactive table.\"\n",
              "              style=\"display:none;\">\n",
              "        \n",
              "  <svg xmlns=\"http://www.w3.org/2000/svg\" height=\"24px\"viewBox=\"0 0 24 24\"\n",
              "       width=\"24px\">\n",
              "    <path d=\"M0 0h24v24H0V0z\" fill=\"none\"/>\n",
              "    <path d=\"M18.56 5.44l.94 2.06.94-2.06 2.06-.94-2.06-.94-.94-2.06-.94 2.06-2.06.94zm-11 1L8.5 8.5l.94-2.06 2.06-.94-2.06-.94L8.5 2.5l-.94 2.06-2.06.94zm10 10l.94 2.06.94-2.06 2.06-.94-2.06-.94-.94-2.06-.94 2.06-2.06.94z\"/><path d=\"M17.41 7.96l-1.37-1.37c-.4-.4-.92-.59-1.43-.59-.52 0-1.04.2-1.43.59L10.3 9.45l-7.72 7.72c-.78.78-.78 2.05 0 2.83L4 21.41c.39.39.9.59 1.41.59.51 0 1.02-.2 1.41-.59l7.78-7.78 2.81-2.81c.8-.78.8-2.07 0-2.86zM5.41 20L4 18.59l7.72-7.72 1.47 1.35L5.41 20z\"/>\n",
              "  </svg>\n",
              "      </button>\n",
              "      \n",
              "  <style>\n",
              "    .colab-df-container {\n",
              "      display:flex;\n",
              "      flex-wrap:wrap;\n",
              "      gap: 12px;\n",
              "    }\n",
              "\n",
              "    .colab-df-convert {\n",
              "      background-color: #E8F0FE;\n",
              "      border: none;\n",
              "      border-radius: 50%;\n",
              "      cursor: pointer;\n",
              "      display: none;\n",
              "      fill: #1967D2;\n",
              "      height: 32px;\n",
              "      padding: 0 0 0 0;\n",
              "      width: 32px;\n",
              "    }\n",
              "\n",
              "    .colab-df-convert:hover {\n",
              "      background-color: #E2EBFA;\n",
              "      box-shadow: 0px 1px 2px rgba(60, 64, 67, 0.3), 0px 1px 3px 1px rgba(60, 64, 67, 0.15);\n",
              "      fill: #174EA6;\n",
              "    }\n",
              "\n",
              "    [theme=dark] .colab-df-convert {\n",
              "      background-color: #3B4455;\n",
              "      fill: #D2E3FC;\n",
              "    }\n",
              "\n",
              "    [theme=dark] .colab-df-convert:hover {\n",
              "      background-color: #434B5C;\n",
              "      box-shadow: 0px 1px 3px 1px rgba(0, 0, 0, 0.15);\n",
              "      filter: drop-shadow(0px 1px 2px rgba(0, 0, 0, 0.3));\n",
              "      fill: #FFFFFF;\n",
              "    }\n",
              "  </style>\n",
              "\n",
              "      <script>\n",
              "        const buttonEl =\n",
              "          document.querySelector('#df-39bc4139-72bb-46c5-826c-fcdeb4c412f3 button.colab-df-convert');\n",
              "        buttonEl.style.display =\n",
              "          google.colab.kernel.accessAllowed ? 'block' : 'none';\n",
              "\n",
              "        async function convertToInteractive(key) {\n",
              "          const element = document.querySelector('#df-39bc4139-72bb-46c5-826c-fcdeb4c412f3');\n",
              "          const dataTable =\n",
              "            await google.colab.kernel.invokeFunction('convertToInteractive',\n",
              "                                                     [key], {});\n",
              "          if (!dataTable) return;\n",
              "\n",
              "          const docLinkHtml = 'Like what you see? Visit the ' +\n",
              "            '<a target=\"_blank\" href=https://colab.research.google.com/notebooks/data_table.ipynb>data table notebook</a>'\n",
              "            + ' to learn more about interactive tables.';\n",
              "          element.innerHTML = '';\n",
              "          dataTable['output_type'] = 'display_data';\n",
              "          await google.colab.output.renderOutput(dataTable, element);\n",
              "          const docLink = document.createElement('div');\n",
              "          docLink.innerHTML = docLinkHtml;\n",
              "          element.appendChild(docLink);\n",
              "        }\n",
              "      </script>\n",
              "    </div>\n",
              "  </div>\n",
              "  "
            ]
          },
          "metadata": {},
          "execution_count": 70
        }
      ]
    },
    {
      "cell_type": "code",
      "source": [
        "# Counting the records when the actual and the predicitons are the same\n",
        "\n",
        "(test_dataset['Actual_target'] == test_dataset['Predict_target']).value_counts()"
      ],
      "metadata": {
        "colab": {
          "base_uri": "https://localhost:8080/"
        },
        "id": "nPult3aMsWJt",
        "outputId": "7707e106-fb31-486d-92e0-438c06f77edc"
      },
      "execution_count": 71,
      "outputs": [
        {
          "output_type": "execute_result",
          "data": {
            "text/plain": [
              "True     722\n",
              "False    248\n",
              "dtype: int64"
            ]
          },
          "metadata": {},
          "execution_count": 71
        }
      ]
    },
    {
      "cell_type": "markdown",
      "source": [
        "### I create the Evaluation reports and confusion Matrices to look deeply at the models performance "
      ],
      "metadata": {
        "id": "3jWR8Jx0yysv"
      }
    },
    {
      "cell_type": "code",
      "source": [
        "# Check the Evaluation reports\n",
        "i=0\n",
        "for model,name in models.items():\n",
        "  print(f\"\\n\\nEvaluation report for {name} is :\\n\\n\", classification_report(y_test,preds[i]))\n",
        "  i+=1"
      ],
      "metadata": {
        "colab": {
          "base_uri": "https://localhost:8080/"
        },
        "id": "879A8jY1tztD",
        "outputId": "1c49b46e-1df6-4227-a731-2ba914b4e851"
      },
      "execution_count": 96,
      "outputs": [
        {
          "output_type": "stream",
          "name": "stdout",
          "text": [
            "\n",
            "\n",
            "Evaluation report for Multinomial Naive Bayes is :\n",
            "\n",
            "               precision    recall  f1-score   support\n",
            "\n",
            "          -1       0.54      0.59      0.57       117\n",
            "           0       0.73      0.86      0.79       583\n",
            "           1       0.59      0.35      0.44       270\n",
            "\n",
            "    accuracy                           0.68       970\n",
            "   macro avg       0.62      0.60      0.60       970\n",
            "weighted avg       0.67      0.68      0.66       970\n",
            "\n",
            "\n",
            "\n",
            "Evaluation report for Logistic Regression is :\n",
            "\n",
            "               precision    recall  f1-score   support\n",
            "\n",
            "          -1       0.75      0.55      0.63       117\n",
            "           0       0.77      0.89      0.82       583\n",
            "           1       0.67      0.51      0.58       270\n",
            "\n",
            "    accuracy                           0.74       970\n",
            "   macro avg       0.73      0.65      0.68       970\n",
            "weighted avg       0.74      0.74      0.73       970\n",
            "\n",
            "\n",
            "\n",
            "Evaluation report for Support Vector Machine is :\n",
            "\n",
            "               precision    recall  f1-score   support\n",
            "\n",
            "          -1       0.57      0.55      0.56       117\n",
            "           0       0.76      0.82      0.79       583\n",
            "           1       0.59      0.50      0.54       270\n",
            "\n",
            "    accuracy                           0.70       970\n",
            "   macro avg       0.64      0.62      0.63       970\n",
            "weighted avg       0.69      0.70      0.69       970\n",
            "\n"
          ]
        }
      ]
    },
    {
      "cell_type": "code",
      "source": [
        "# Check the Confusion matrices\n",
        "for model,name in models.items():\n",
        "  print(f\"\\n\\Confusion matrix for {name} is :\\n\\n\", plot_confusion_matrix(model, X=X_test, y_true=y_test, cmap='Blues'))"
      ],
      "metadata": {
        "colab": {
          "base_uri": "https://localhost:8080/",
          "height": 1000
        },
        "id": "pzSPX0o7wwLi",
        "outputId": "e4eb1e27-5e2b-41f4-89f0-cf3074f7229f"
      },
      "execution_count": 98,
      "outputs": [
        {
          "output_type": "stream",
          "name": "stderr",
          "text": [
            "/usr/local/lib/python3.7/dist-packages/sklearn/utils/deprecation.py:87: FutureWarning: Function plot_confusion_matrix is deprecated; Function `plot_confusion_matrix` is deprecated in 1.0 and will be removed in 1.2. Use one of the class methods: ConfusionMatrixDisplay.from_predictions or ConfusionMatrixDisplay.from_estimator.\n",
            "  warnings.warn(msg, category=FutureWarning)\n",
            "/usr/local/lib/python3.7/dist-packages/sklearn/utils/deprecation.py:87: FutureWarning: Function plot_confusion_matrix is deprecated; Function `plot_confusion_matrix` is deprecated in 1.0 and will be removed in 1.2. Use one of the class methods: ConfusionMatrixDisplay.from_predictions or ConfusionMatrixDisplay.from_estimator.\n",
            "  warnings.warn(msg, category=FutureWarning)\n",
            "/usr/local/lib/python3.7/dist-packages/sklearn/utils/deprecation.py:87: FutureWarning: Function plot_confusion_matrix is deprecated; Function `plot_confusion_matrix` is deprecated in 1.0 and will be removed in 1.2. Use one of the class methods: ConfusionMatrixDisplay.from_predictions or ConfusionMatrixDisplay.from_estimator.\n",
            "  warnings.warn(msg, category=FutureWarning)\n"
          ]
        },
        {
          "output_type": "stream",
          "name": "stdout",
          "text": [
            "\n",
            "\\Confusion matrix for Multinomial Naive Bayes is :\n",
            "\n",
            " <sklearn.metrics._plot.confusion_matrix.ConfusionMatrixDisplay object at 0x7fdabc3844d0>\n",
            "\n",
            "\\Confusion matrix for Logistic Regression is :\n",
            "\n",
            " <sklearn.metrics._plot.confusion_matrix.ConfusionMatrixDisplay object at 0x7fdabc3844d0>\n",
            "\n",
            "\\Confusion matrix for Support Vector Machine is :\n",
            "\n",
            " <sklearn.metrics._plot.confusion_matrix.ConfusionMatrixDisplay object at 0x7fdabc4391d0>\n"
          ]
        },
        {
          "output_type": "display_data",
          "data": {
            "text/plain": [
              "<Figure size 432x288 with 2 Axes>"
            ],
            "image/png": "[encoded data removed]"
          },
          "metadata": {
            "needs_background": "light"
          }
        },
        {
          "output_type": "display_data",
          "data": {
            "text/plain": [
              "<Figure size 432x288 with 2 Axes>"
            ],
            "image/png": "[encoded data removed]"
          },
          "metadata": {
            "needs_background": "light"
          }
        },
        {
          "output_type": "display_data",
          "data": {
            "text/plain": [
              "<Figure size 432x288 with 2 Axes>"
            ],
            "image/png": "[encoded data removed]"
          },
          "metadata": {
            "needs_background": "light"
          }
        }
      ]
    }
  ]
}