{
 "cells": [
  {
   "cell_type": "code",
   "execution_count": 1,
   "id": "ce30741c",
   "metadata": {},
   "outputs": [
    {
     "name": "stderr",
     "output_type": "stream",
     "text": [
      "2022-11-05 19:09:12.184602: I tensorflow/core/platform/cpu_feature_guard.cc:193] This TensorFlow binary is optimized with oneAPI Deep Neural Network Library (oneDNN) to use the following CPU instructions in performance-critical operations:  AVX2 FMA\n",
      "To enable them in other operations, rebuild TensorFlow with the appropriate compiler flags.\n"
     ]
    }
   ],
   "source": [
    "import numpy as np # linear algebra\n",
    "import pandas as pd # data processing, CSV file I/O (e.g. pd.read_csv)\n",
    "import os\n",
    "import matplotlib.pyplot as plt\n",
    "import seaborn as sns\n",
    "import tensorflow as tf\n",
    "import keras\n",
    "from PIL import Image\n",
    "from keras.preprocessing import image\n",
    "from keras.models import Sequential\n",
    "from keras.layers import Conv2D, MaxPool2D, Flatten,Dense,Dropout,BatchNormalization\n",
    "from tensorflow.keras.preprocessing.image import ImageDataGenerator\n",
    "\n",
    "from keras.layers import Input, Lambda, Dense, Flatten\n",
    "from tensorflow.keras.applications import VGG16, InceptionResNetV2\n",
    "from tensorflow.keras.callbacks import EarlyStopping\n",
    "from keras import regularizers\n",
    "from sklearn.metrics import classification_report\n",
    "\n",
    "\n",
    "from tensorflow.keras.optimizers import Adam,RMSprop,SGD,Adamax"
   ]
  },
  {
   "cell_type": "code",
   "execution_count": 2,
   "id": "94f38b4d",
   "metadata": {},
   "outputs": [],
   "source": [
    "from PIL import ImageFile\n",
    "ImageFile.LOAD_TRUNCATED_IMAGES = True"
   ]
  },
  {
   "cell_type": "code",
   "execution_count": 3,
   "id": "e318b151",
   "metadata": {},
   "outputs": [],
   "source": [
    "train_dir = '/Users/macbookpro/Desktop/DATASET/TRAIN'\n",
    "test_dir = '/Users/macbookpro/Desktop/DATASET/TEST'"
   ]
  },
  {
   "cell_type": "code",
   "execution_count": 4,
   "id": "700d93f6",
   "metadata": {},
   "outputs": [],
   "source": [
    "train_datagen = ImageDataGenerator(width_shift_range= 0.1,\n",
    "                                  horizontal_flip = True,\n",
    "                                  rescale = 1./255,\n",
    "                                  validation_split = 0.2)\n",
    "\n",
    "\n",
    "test_datagen = ImageDataGenerator(rescale = 1./255,\n",
    "                                 validation_split = 0.2)"
   ]
  },
  {
   "cell_type": "code",
   "execution_count": 5,
   "id": "b5a616c8",
   "metadata": {},
   "outputs": [
    {
     "name": "stdout",
     "output_type": "stream",
     "text": [
      "Found 866 images belonging to 5 classes.\n",
      "Found 92 images belonging to 5 classes.\n"
     ]
    }
   ],
   "source": [
    "train_generator =  train_datagen.flow_from_directory(directory = train_dir,\n",
    "                                                    target_size = (224,224),\n",
    "                                                    color_mode = 'rgb',\n",
    "                                                    class_mode = 'categorical',\n",
    "                                                    batch_size = 16,\n",
    "                                                    subset = 'training')\n",
    "\n",
    "\n",
    "validation_generator  = test_datagen.flow_from_directory(directory =test_dir,\n",
    "                                                  target_size = (224,224),\n",
    "                                                  color_mode = 'rgb',\n",
    "                                                  class_mode = 'categorical',\n",
    "                                                  subset = 'validation')"
   ]
  },
  {
   "cell_type": "markdown",
   "id": "b99ebc10",
   "metadata": {},
   "source": [
    "# Creating the model "
   ]
  },
  {
   "cell_type": "code",
   "execution_count": 23,
   "id": "1431d70f",
   "metadata": {},
   "outputs": [],
   "source": [
    "model = tf.keras.models.Sequential([\n",
    "    # Three hidden layers using 'swish' activation function\n",
    "    tf.keras.layers.Conv2D(32, (3,3), activation='swish',padding = 'Same', input_shape=(224, 224, 3)),\n",
    "    # Max pooling to reduce the dimentions \n",
    "    tf.keras.layers.MaxPooling2D(2, 2),\n",
    "\n",
    "    tf.keras.layers.Conv2D(64, (3,3), activation='swish',padding = 'Same'),\n",
    "    tf.keras.layers.MaxPooling2D(2,2),\n",
    "\n",
    "    tf.keras.layers.Conv2D(128, (3,3), activation='swish',padding = 'Same'),\n",
    "    tf.keras.layers.MaxPooling2D(2,2),\n",
    "    \n",
    "    # Flatten layer to create one dimention array  \n",
    "    tf.keras.layers.Flatten(),\n",
    "    # Fully connected layer \n",
    "    tf.keras.layers.Dense(50, activation='swish'),\n",
    "    tf.keras.layers.Dropout(0.5),\n",
    "    # Output layer using 'softmax' activation function \n",
    "    tf.keras.layers.Dense(5, activation='softmax')\n",
    "])"
   ]
  },
  {
   "cell_type": "code",
   "execution_count": 24,
   "id": "6b8afc5c",
   "metadata": {},
   "outputs": [
    {
     "name": "stdout",
     "output_type": "stream",
     "text": [
      "Model: \"sequential_1\"\n",
      "_________________________________________________________________\n",
      " Layer (type)                Output Shape              Param #   \n",
      "=================================================================\n",
      " conv2d_3 (Conv2D)           (None, 224, 224, 32)      896       \n",
      "                                                                 \n",
      " max_pooling2d_3 (MaxPooling  (None, 112, 112, 32)     0         \n",
      " 2D)                                                             \n",
      "                                                                 \n",
      " conv2d_4 (Conv2D)           (None, 112, 112, 64)      18496     \n",
      "                                                                 \n",
      " max_pooling2d_4 (MaxPooling  (None, 56, 56, 64)       0         \n",
      " 2D)                                                             \n",
      "                                                                 \n",
      " conv2d_5 (Conv2D)           (None, 56, 56, 128)       73856     \n",
      "                                                                 \n",
      " max_pooling2d_5 (MaxPooling  (None, 28, 28, 128)      0         \n",
      " 2D)                                                             \n",
      "                                                                 \n",
      " flatten_1 (Flatten)         (None, 100352)            0         \n",
      "                                                                 \n",
      " dense_2 (Dense)             (None, 50)                5017650   \n",
      "                                                                 \n",
      " dropout_1 (Dropout)         (None, 50)                0         \n",
      "                                                                 \n",
      " dense_3 (Dense)             (None, 5)                 255       \n",
      "                                                                 \n",
      "=================================================================\n",
      "Total params: 5,111,153\n",
      "Trainable params: 5,111,153\n",
      "Non-trainable params: 0\n",
      "_________________________________________________________________\n"
     ]
    }
   ],
   "source": [
    "model.summary()"
   ]
  },
  {
   "cell_type": "markdown",
   "id": "83614b85",
   "metadata": {},
   "source": [
    "# Compile the model "
   ]
  },
  {
   "cell_type": "code",
   "execution_count": 25,
   "id": "2402e936",
   "metadata": {},
   "outputs": [],
   "source": [
    "# Using 'adam' optimizer and 25 epochs\n",
    "model.compile(loss='categorical_crossentropy',\n",
    "              optimizer = 'adam',\n",
    "              metrics=['accuracy'])\n",
    "\n",
    "epochs = 25  \n",
    "batch_size = 16"
   ]
  },
  {
   "cell_type": "code",
   "execution_count": 26,
   "id": "b55d9b8f",
   "metadata": {},
   "outputs": [],
   "source": [
    "from PIL import ImageFile\n",
    "ImageFile.LOAD_TRUNCATED_IMAGES = True"
   ]
  },
  {
   "cell_type": "markdown",
   "id": "01304286",
   "metadata": {},
   "source": [
    "# Fit the model "
   ]
  },
  {
   "cell_type": "code",
   "execution_count": 27,
   "id": "3e514053",
   "metadata": {},
   "outputs": [
    {
     "name": "stdout",
     "output_type": "stream",
     "text": [
      "Epoch 1/25\n",
      " 9/55 [===>..........................] - ETA: 38s - loss: 1.8785 - accuracy: 0.2153"
     ]
    },
    {
     "name": "stderr",
     "output_type": "stream",
     "text": [
      "/Users/macbookpro/opt/anaconda3/lib/python3.9/site-packages/PIL/Image.py:945: UserWarning: Palette images with Transparency expressed in bytes should be converted to RGBA images\n",
      "  warnings.warn(\n"
     ]
    },
    {
     "name": "stdout",
     "output_type": "stream",
     "text": [
      "55/55 [==============================] - 54s 965ms/step - loss: 1.6555 - accuracy: 0.2552 - val_loss: 1.2472 - val_accuracy: 0.5652\n",
      "Epoch 2/25\n",
      "55/55 [==============================] - 58s 1s/step - loss: 1.4573 - accuracy: 0.3684 - val_loss: 0.9744 - val_accuracy: 0.5978\n",
      "Epoch 3/25\n",
      "55/55 [==============================] - 55s 994ms/step - loss: 1.4000 - accuracy: 0.4203 - val_loss: 0.8329 - val_accuracy: 0.6413\n",
      "Epoch 4/25\n",
      "55/55 [==============================] - 63s 1s/step - loss: 1.3572 - accuracy: 0.4573 - val_loss: 0.8457 - val_accuracy: 0.6304\n",
      "Epoch 5/25\n",
      "55/55 [==============================] - 72s 1s/step - loss: 1.2393 - accuracy: 0.4954 - val_loss: 0.9092 - val_accuracy: 0.7283\n",
      "Epoch 6/25\n",
      "55/55 [==============================] - 89s 2s/step - loss: 1.2046 - accuracy: 0.5277 - val_loss: 0.8888 - val_accuracy: 0.6739\n",
      "Epoch 7/25\n",
      "55/55 [==============================] - 99s 2s/step - loss: 1.1544 - accuracy: 0.5497 - val_loss: 0.7042 - val_accuracy: 0.6630\n",
      "Epoch 8/25\n",
      "55/55 [==============================] - 84s 2s/step - loss: 1.0855 - accuracy: 0.5797 - val_loss: 0.7068 - val_accuracy: 0.7283\n",
      "Epoch 9/25\n",
      "55/55 [==============================] - 83s 2s/step - loss: 1.0601 - accuracy: 0.5947 - val_loss: 0.7809 - val_accuracy: 0.6522\n",
      "Epoch 10/25\n",
      "55/55 [==============================] - 81s 1s/step - loss: 1.0467 - accuracy: 0.6062 - val_loss: 0.6443 - val_accuracy: 0.7174\n",
      "Epoch 11/25\n",
      "55/55 [==============================] - 82s 1s/step - loss: 0.9532 - accuracy: 0.6443 - val_loss: 0.5609 - val_accuracy: 0.7500\n",
      "Epoch 12/25\n",
      "55/55 [==============================] - 82s 1s/step - loss: 0.8673 - accuracy: 0.6755 - val_loss: 0.4582 - val_accuracy: 0.7500\n",
      "Epoch 13/25\n",
      "55/55 [==============================] - 87s 2s/step - loss: 0.8219 - accuracy: 0.6975 - val_loss: 0.5136 - val_accuracy: 0.8152\n",
      "Epoch 14/25\n",
      "55/55 [==============================] - 117s 2s/step - loss: 0.8344 - accuracy: 0.7055 - val_loss: 0.4559 - val_accuracy: 0.8261\n",
      "Epoch 15/25\n",
      "55/55 [==============================] - 167s 3s/step - loss: 0.7772 - accuracy: 0.7206 - val_loss: 0.4797 - val_accuracy: 0.8261\n",
      "Epoch 16/25\n",
      "55/55 [==============================] - 84s 2s/step - loss: 0.7221 - accuracy: 0.7298 - val_loss: 0.4720 - val_accuracy: 0.8152\n",
      "Epoch 17/25\n",
      "55/55 [==============================] - 55s 991ms/step - loss: 0.6566 - accuracy: 0.7679 - val_loss: 0.4717 - val_accuracy: 0.8043\n",
      "Epoch 18/25\n",
      "55/55 [==============================] - 66s 1s/step - loss: 0.6769 - accuracy: 0.7598 - val_loss: 0.4268 - val_accuracy: 0.8152\n",
      "Epoch 19/25\n",
      "55/55 [==============================] - 54s 977ms/step - loss: 0.6673 - accuracy: 0.7667 - val_loss: 0.4353 - val_accuracy: 0.8261\n",
      "Epoch 20/25\n",
      "55/55 [==============================] - 54s 985ms/step - loss: 0.6388 - accuracy: 0.7725 - val_loss: 0.4343 - val_accuracy: 0.8370\n",
      "Epoch 21/25\n",
      "55/55 [==============================] - 54s 981ms/step - loss: 0.5232 - accuracy: 0.7968 - val_loss: 0.3535 - val_accuracy: 0.8587\n",
      "Epoch 22/25\n",
      "55/55 [==============================] - 64s 1s/step - loss: 0.5298 - accuracy: 0.8106 - val_loss: 0.3313 - val_accuracy: 0.8370\n",
      "Epoch 23/25\n",
      "55/55 [==============================] - 57s 1s/step - loss: 0.4542 - accuracy: 0.8326 - val_loss: 0.4465 - val_accuracy: 0.8587\n",
      "Epoch 24/25\n",
      "55/55 [==============================] - 55s 998ms/step - loss: 0.4611 - accuracy: 0.8256 - val_loss: 0.3752 - val_accuracy: 0.8587\n",
      "Epoch 25/25\n",
      "55/55 [==============================] - 55s 990ms/step - loss: 0.4445 - accuracy: 0.8326 - val_loss: 0.4321 - val_accuracy: 0.8370\n"
     ]
    }
   ],
   "source": [
    "history = model.fit(train_generator, epochs = epochs,validation_data = validation_generator)"
   ]
  },
  {
   "cell_type": "code",
   "execution_count": 28,
   "id": "adfc8b92",
   "metadata": {},
   "outputs": [
    {
     "data": {
      "image/png": "[encoded data removed]",
      "text/plain": [
       "<Figure size 864x288 with 2 Axes>"
      ]
     },
     "metadata": {
      "needs_background": "light"
     },
     "output_type": "display_data"
    }
   ],
   "source": [
    "fig , ax = plt.subplots(1,2)\n",
    "train_acc = history.history['accuracy']\n",
    "train_loss = history.history['loss']\n",
    "fig.set_size_inches(12,4)\n",
    "\n",
    "ax[0].plot(history.history['accuracy'])\n",
    "ax[0].plot(history.history['val_accuracy'])\n",
    "ax[0].set_title('Training Accuracy vs Validation Accuracy')\n",
    "ax[0].set_ylabel('Accuracy')\n",
    "ax[0].set_xlabel('Epoch')\n",
    "ax[0].legend(['Train', 'Validation'], loc='upper left')\n",
    "\n",
    "ax[1].plot(history.history['loss'])\n",
    "ax[1].plot(history.history['val_loss'])\n",
    "ax[1].set_title('Training Loss vs Validation Loss')\n",
    "ax[1].set_ylabel('Loss')\n",
    "ax[1].set_xlabel('Epoch')\n",
    "ax[1].legend(['Train', 'Validation'], loc='upper left')\n",
    "\n",
    "plt.show()"
   ]
  },
  {
   "cell_type": "code",
   "execution_count": 29,
   "id": "d8f7daa1",
   "metadata": {},
   "outputs": [],
   "source": [
    "y_val_org = []\n",
    "for i in range( validation_generator.__len__() ):\n",
    "    y_val_org.extend(\n",
    "        validation_generator.__getitem__( i )[1] \n",
    "    )\n",
    "y_val_org = np.array(y_val_org)\n",
    "y_val_org = np.argmax(y_val_org, axis=1)"
   ]
  },
  {
   "cell_type": "code",
   "execution_count": 30,
   "id": "45bad016",
   "metadata": {},
   "outputs": [
    {
     "data": {
      "text/plain": [
       "array([4, 2, 0, 2, 4, 0, 4, 1, 3, 0, 0, 2, 0, 4, 4, 0, 2, 0, 1, 2, 3, 2,\n",
       "       0, 1, 4, 2, 4, 2, 3, 4, 2, 1, 4, 4, 4, 2, 2, 3, 0, 0, 1, 1, 0, 0,\n",
       "       0, 2, 0, 2, 3, 1, 4, 3, 4, 3, 1, 3, 3, 1, 4, 3, 0, 1, 2, 2, 3, 0,\n",
       "       4, 4, 4, 1, 2, 2, 4, 1, 1, 3, 2, 2, 2, 4, 1, 0, 1, 1, 3, 0, 2, 4,\n",
       "       2, 0, 4, 2])"
      ]
     },
     "execution_count": 30,
     "metadata": {},
     "output_type": "execute_result"
    }
   ],
   "source": [
    "y_val_org"
   ]
  },
  {
   "cell_type": "markdown",
   "id": "872cac1b",
   "metadata": {},
   "source": [
    "# Prediction of validation "
   ]
  },
  {
   "cell_type": "code",
   "execution_count": 31,
   "id": "350e03a9",
   "metadata": {},
   "outputs": [
    {
     "name": "stdout",
     "output_type": "stream",
     "text": [
      "3/3 [==============================] - 4s 1s/step\n"
     ]
    },
    {
     "data": {
      "text/plain": [
       "array([[2.06471197e-02, 5.99238157e-01, 1.98412806e-01, 2.27184352e-02,\n",
       "        1.58983439e-01],\n",
       "       [1.35387927e-01, 4.16623568e-03, 8.24159026e-01, 3.82210070e-04,\n",
       "        3.59046161e-02],\n",
       "       [9.75168943e-01, 4.09768109e-06, 2.48002205e-02, 2.36887740e-06,\n",
       "        2.42952938e-05],\n",
       "       [2.00878200e-03, 1.67305768e-01, 1.00919949e-02, 1.15695084e-03,\n",
       "        8.19436550e-01],\n",
       "       [1.60857769e-06, 2.66900301e-01, 5.70908742e-05, 1.87394799e-05,\n",
       "        7.33022273e-01],\n",
       "       [9.99996781e-01, 9.96466132e-10, 3.22335563e-06, 3.87568276e-11,\n",
       "        4.51131132e-09],\n",
       "       [8.17588170e-06, 4.76454757e-03, 2.10598003e-07, 2.65851785e-08,\n",
       "        9.95226979e-01],\n",
       "       [2.39023883e-02, 4.84619915e-01, 5.33859283e-02, 1.41479671e-01,\n",
       "        2.96612054e-01],\n",
       "       [2.25843155e-06, 8.15835447e-05, 1.06841990e-05, 9.99312878e-01,\n",
       "        5.92505094e-04],\n",
       "       [9.98556793e-01, 1.17323259e-06, 1.37046131e-03, 4.51636275e-08,\n",
       "        7.15260612e-05],\n",
       "       [9.99874592e-01, 1.26953004e-10, 1.25251463e-04, 1.47961417e-11,\n",
       "        1.59908069e-07],\n",
       "       [2.25660710e-06, 1.03648918e-05, 9.99987364e-01, 1.97555909e-08,\n",
       "        3.65941304e-08],\n",
       "       [9.98600185e-01, 8.53950314e-06, 1.37340394e-03, 5.68291568e-07,\n",
       "        1.72588461e-05],\n",
       "       [6.21809937e-09, 4.01643477e-03, 5.02310016e-09, 4.90544341e-11,\n",
       "        9.95983601e-01],\n",
       "       [2.00471877e-05, 4.87107821e-02, 1.08908944e-05, 6.90617242e-07,\n",
       "        9.51257586e-01],\n",
       "       [9.88195300e-01, 7.32095214e-04, 1.92863750e-04, 2.38408506e-06,\n",
       "        1.08773243e-02],\n",
       "       [4.13650908e-02, 2.73188175e-06, 9.57662046e-01, 9.28906724e-04,\n",
       "        4.12498084e-05],\n",
       "       [9.99612987e-01, 8.48434411e-06, 3.57343270e-05, 4.58934046e-09,\n",
       "        3.42846091e-04],\n",
       "       [6.31738703e-06, 4.99700606e-02, 1.37223615e-04, 1.49026164e-04,\n",
       "        9.49737430e-01],\n",
       "       [1.31309225e-05, 4.81071766e-06, 9.99979854e-01, 2.15192927e-06,\n",
       "        1.65819060e-07],\n",
       "       [3.63070546e-11, 2.97861664e-08, 2.21857602e-11, 1.00000000e+00,\n",
       "        2.68675948e-09],\n",
       "       [9.17800441e-02, 2.12461782e-06, 9.08037722e-01, 9.78838580e-05,\n",
       "        8.21929352e-05],\n",
       "       [9.99988079e-01, 2.64230664e-08, 2.10489432e-07, 2.57116828e-11,\n",
       "        1.16666570e-05],\n",
       "       [1.35272815e-09, 9.99948621e-01, 7.83574716e-09, 2.64815947e-09,\n",
       "        5.13714731e-05],\n",
       "       [2.50482568e-08, 9.60333055e-05, 3.17682748e-07, 7.86913257e-10,\n",
       "        9.99903560e-01],\n",
       "       [1.72407646e-02, 1.16936699e-03, 9.80772853e-01, 6.44221553e-04,\n",
       "        1.72815227e-04],\n",
       "       [1.29015220e-07, 1.33143425e-01, 2.52585551e-07, 1.32522743e-07,\n",
       "        8.66856098e-01],\n",
       "       [3.50532238e-04, 1.93570475e-08, 9.99645948e-01, 1.36033114e-08,\n",
       "        3.42534281e-06],\n",
       "       [1.78912655e-04, 9.62291192e-03, 2.59439639e-05, 9.17592645e-01,\n",
       "        7.25796446e-02],\n",
       "       [2.02792091e-03, 4.67498600e-03, 2.45214403e-02, 3.95368814e-04,\n",
       "        9.68380332e-01],\n",
       "       [6.66789757e-03, 7.19797506e-04, 9.90379810e-01, 2.38662047e-04,\n",
       "        1.99383846e-03],\n",
       "       [6.43536565e-04, 1.35292932e-01, 6.98832870e-01, 4.65651136e-03,\n",
       "        1.60574138e-01],\n",
       "       [5.73681609e-05, 2.19780058e-02, 1.36199029e-04, 4.78161701e-06,\n",
       "        9.77823615e-01],\n",
       "       [3.34181497e-03, 6.49312258e-01, 5.31413779e-03, 2.35495567e-02,\n",
       "        3.18482190e-01],\n",
       "       [1.99792348e-03, 5.01821376e-03, 3.49502021e-04, 1.52892317e-05,\n",
       "        9.92619097e-01],\n",
       "       [1.39700532e-01, 2.22253334e-03, 8.28402638e-01, 2.23345659e-03,\n",
       "        2.74408329e-02],\n",
       "       [1.59786493e-02, 1.59511219e-05, 9.83702421e-01, 2.23968513e-04,\n",
       "        7.90145132e-05],\n",
       "       [3.85518568e-08, 6.09274639e-06, 3.61237218e-09, 9.99993086e-01,\n",
       "        8.34673926e-07],\n",
       "       [9.99997497e-01, 1.24058298e-11, 2.36325286e-06, 3.78794001e-12,\n",
       "        1.43551318e-07],\n",
       "       [9.98572469e-01, 5.60991657e-06, 1.19525485e-03, 3.34892519e-07,\n",
       "        2.26317265e-04],\n",
       "       [2.28832904e-02, 8.36947799e-01, 1.78447813e-02, 5.87786501e-03,\n",
       "        1.16446212e-01],\n",
       "       [1.14904798e-03, 4.52239931e-01, 4.64259803e-01, 1.43665075e-02,\n",
       "        6.79846331e-02],\n",
       "       [9.99835372e-01, 3.37801652e-07, 1.56402399e-04, 1.84378190e-09,\n",
       "        7.83684391e-06],\n",
       "       [9.99916911e-01, 3.89703637e-05, 4.01727666e-05, 3.63692948e-07,\n",
       "        3.52762072e-06],\n",
       "       [9.99711335e-01, 1.45765262e-06, 2.44608545e-05, 2.70748028e-08,\n",
       "        2.62770132e-04],\n",
       "       [6.69025292e-04, 1.62455035e-06, 9.99241948e-01, 8.66786359e-05,\n",
       "        8.69967153e-07],\n",
       "       [9.67273831e-01, 5.19942716e-07, 3.22399139e-02, 2.28161025e-06,\n",
       "        4.83431650e-04],\n",
       "       [3.51336668e-03, 9.15194955e-03, 9.87195849e-01, 2.26005741e-05,\n",
       "        1.16105628e-04],\n",
       "       [5.60036957e-01, 6.15611579e-03, 3.99040170e-02, 5.71551509e-02,\n",
       "        3.36747766e-01],\n",
       "       [3.03313891e-06, 4.52445507e-01, 1.41221756e-06, 1.26843370e-05,\n",
       "        5.47537386e-01],\n",
       "       [3.63316154e-04, 1.89659134e-01, 2.29188171e-03, 5.73175294e-06,\n",
       "        8.07680011e-01],\n",
       "       [7.40246556e-04, 6.86859665e-03, 2.45118688e-04, 8.21058929e-01,\n",
       "        1.71087101e-01],\n",
       "       [1.35719348e-02, 4.96831723e-02, 2.90427823e-04, 5.63828461e-03,\n",
       "        9.30816233e-01],\n",
       "       [6.12615375e-04, 3.43676172e-02, 1.29748206e-03, 8.88132155e-01,\n",
       "        7.55901784e-02],\n",
       "       [4.86057460e-01, 3.74912471e-02, 1.44185454e-01, 7.04270825e-02,\n",
       "        2.61838824e-01],\n",
       "       [5.75050126e-06, 2.00723618e-04, 4.79611708e-06, 9.99572456e-01,\n",
       "        2.16176093e-04],\n",
       "       [1.31456527e-05, 3.88474902e-04, 1.06696643e-06, 9.98975754e-01,\n",
       "        6.21641928e-04],\n",
       "       [1.26893212e-07, 9.97690082e-01, 3.45168610e-06, 2.17536149e-06,\n",
       "        2.30425689e-03],\n",
       "       [5.08157464e-05, 7.10008919e-01, 7.33946490e-06, 3.10115252e-06,\n",
       "        2.89929807e-01],\n",
       "       [1.42279887e-05, 1.67029083e-03, 2.98749510e-04, 9.93858874e-01,\n",
       "        4.15784540e-03],\n",
       "       [9.97947872e-01, 1.70661824e-05, 1.98141648e-03, 2.86721638e-06,\n",
       "        5.06426477e-05],\n",
       "       [1.88258085e-02, 9.14732158e-01, 9.93242953e-03, 5.38933033e-04,\n",
       "        5.59707135e-02],\n",
       "       [2.16718740e-06, 1.30539547e-07, 9.99997616e-01, 8.63798419e-08,\n",
       "        2.00726724e-09],\n",
       "       [1.67582408e-02, 1.22286407e-02, 9.57532167e-01, 2.26428756e-03,\n",
       "        1.12166451e-02],\n",
       "       [4.05915678e-01, 4.24211659e-02, 2.09460803e-03, 1.71492361e-02,\n",
       "        5.32419324e-01],\n",
       "       [9.99583066e-01, 2.89622826e-10, 4.05925181e-04, 7.12272324e-11,\n",
       "        1.09649036e-05],\n",
       "       [2.08693338e-04, 5.19634902e-01, 2.79900851e-04, 1.02753122e-03,\n",
       "        4.78848904e-01],\n",
       "       [8.72572400e-07, 2.75874627e-03, 1.14248087e-05, 1.98103578e-07,\n",
       "        9.97228801e-01],\n",
       "       [8.92109256e-06, 1.03204928e-01, 2.02731899e-05, 1.75233436e-05,\n",
       "        8.96748304e-01],\n",
       "       [7.26532773e-04, 4.81309265e-01, 8.14602845e-06, 7.06662433e-07,\n",
       "        5.17955363e-01],\n",
       "       [1.54553636e-04, 3.87615328e-05, 9.99526858e-01, 1.37190451e-04,\n",
       "        1.42568722e-04],\n",
       "       [2.95948528e-04, 5.12551833e-06, 9.99696016e-01, 2.56954172e-06,\n",
       "        3.71176242e-07],\n",
       "       [1.58768352e-02, 4.49579775e-01, 7.48654157e-02, 1.23043894e-03,\n",
       "        4.58447605e-01],\n",
       "       [5.83038665e-03, 4.60694700e-01, 3.49385402e-04, 1.43563561e-02,\n",
       "        5.18769145e-01],\n",
       "       [6.21689111e-02, 2.75560115e-02, 7.05387592e-01, 2.00905338e-01,\n",
       "        3.98219330e-03],\n",
       "       [5.01417048e-07, 2.09530379e-04, 9.32799296e-08, 9.99762833e-01,\n",
       "        2.69996053e-05],\n",
       "       [1.28958002e-01, 3.27976309e-02, 8.14506948e-01, 8.02335050e-03,\n",
       "        1.57140307e-02],\n",
       "       [1.68343205e-02, 2.72717407e-05, 9.83070552e-01, 5.39044049e-05,\n",
       "        1.39278336e-05],\n",
       "       [3.29999328e-02, 4.35011368e-03, 9.55351293e-01, 4.38530842e-04,\n",
       "        6.86024129e-03],\n",
       "       [9.90560693e-06, 2.06784029e-02, 6.88025830e-06, 9.57053743e-08,\n",
       "        9.79304731e-01],\n",
       "       [1.24837728e-02, 5.22063851e-01, 2.83842534e-03, 9.60596465e-03,\n",
       "        4.53007936e-01],\n",
       "       [9.85914350e-01, 9.60040721e-04, 1.27033573e-02, 3.90936038e-04,\n",
       "        3.13083474e-05],\n",
       "       [1.22078601e-02, 6.34889960e-01, 7.86065683e-03, 2.66537983e-02,\n",
       "        3.18387747e-01],\n",
       "       [1.41774425e-02, 5.29920399e-01, 1.81319274e-03, 5.22880489e-03,\n",
       "        4.48860168e-01],\n",
       "       [2.74065486e-03, 7.62606636e-02, 3.31757171e-03, 5.06685495e-01,\n",
       "        4.10995632e-01],\n",
       "       [9.99902844e-01, 8.98892835e-11, 9.48637389e-05, 1.43478580e-11,\n",
       "        2.31493846e-06],\n",
       "       [5.43043204e-03, 1.21028592e-04, 9.94276106e-01, 3.59673177e-05,\n",
       "        1.36444898e-04],\n",
       "       [3.41386586e-01, 2.40629986e-02, 1.26603257e-03, 1.23888003e-02,\n",
       "        6.20895565e-01],\n",
       "       [2.47073829e-01, 3.82822454e-02, 5.97194135e-01, 2.81393086e-03,\n",
       "        1.14635907e-01],\n",
       "       [9.57487464e-01, 9.68510169e-04, 9.44132276e-04, 4.22630222e-07,\n",
       "        4.05993797e-02],\n",
       "       [1.92729640e-03, 4.77101505e-01, 5.87919774e-03, 2.80226953e-03,\n",
       "        5.12289762e-01],\n",
       "       [4.50975122e-03, 4.24071308e-03, 9.84742284e-01, 5.33931935e-03,\n",
       "        1.16788794e-03]], dtype=float32)"
      ]
     },
     "execution_count": 31,
     "metadata": {},
     "output_type": "execute_result"
    }
   ],
   "source": [
    "predication = model.predict(validation_generator)\n",
    "\n",
    "predication"
   ]
  },
  {
   "cell_type": "code",
   "execution_count": 32,
   "id": "1ef7beb4",
   "metadata": {},
   "outputs": [
    {
     "data": {
      "text/plain": [
       "[1,\n",
       " 2,\n",
       " 0,\n",
       " 4,\n",
       " 4,\n",
       " 0,\n",
       " 4,\n",
       " 1,\n",
       " 3,\n",
       " 0,\n",
       " 0,\n",
       " 2,\n",
       " 0,\n",
       " 4,\n",
       " 4,\n",
       " 0,\n",
       " 2,\n",
       " 0,\n",
       " 4,\n",
       " 2,\n",
       " 3,\n",
       " 2,\n",
       " 0,\n",
       " 1,\n",
       " 4,\n",
       " 2,\n",
       " 4,\n",
       " 2,\n",
       " 3,\n",
       " 4,\n",
       " 2,\n",
       " 2,\n",
       " 4,\n",
       " 1,\n",
       " 4,\n",
       " 2,\n",
       " 2,\n",
       " 3,\n",
       " 0,\n",
       " 0,\n",
       " 1,\n",
       " 2,\n",
       " 0,\n",
       " 0,\n",
       " 0,\n",
       " 2,\n",
       " 0,\n",
       " 2,\n",
       " 0,\n",
       " 4,\n",
       " 4,\n",
       " 3,\n",
       " 4,\n",
       " 3,\n",
       " 0,\n",
       " 3,\n",
       " 3,\n",
       " 1,\n",
       " 1,\n",
       " 3,\n",
       " 0,\n",
       " 1,\n",
       " 2,\n",
       " 2,\n",
       " 4,\n",
       " 0,\n",
       " 1,\n",
       " 4,\n",
       " 4,\n",
       " 4,\n",
       " 2,\n",
       " 2,\n",
       " 4,\n",
       " 4,\n",
       " 2,\n",
       " 3,\n",
       " 2,\n",
       " 2,\n",
       " 2,\n",
       " 4,\n",
       " 1,\n",
       " 0,\n",
       " 1,\n",
       " 1,\n",
       " 3,\n",
       " 0,\n",
       " 2,\n",
       " 4,\n",
       " 2,\n",
       " 0,\n",
       " 4,\n",
       " 2]"
      ]
     },
     "execution_count": 32,
     "metadata": {},
     "output_type": "execute_result"
    }
   ],
   "source": [
    "predication_classes = [np.argmax(element) for element in predication]\n",
    "predication_classes"
   ]
  },
  {
   "cell_type": "markdown",
   "id": "66a8d8fc",
   "metadata": {},
   "source": [
    "# The model report "
   ]
  },
  {
   "cell_type": "code",
   "execution_count": 33,
   "id": "7dda35c5",
   "metadata": {},
   "outputs": [
    {
     "name": "stdout",
     "output_type": "stream",
     "text": [
      "              precision    recall  f1-score   support\n",
      "\n",
      "           0       0.90      1.00      0.95        19\n",
      "           1       0.67      0.50      0.57        16\n",
      "           2       0.88      0.96      0.92        23\n",
      "           3       1.00      0.85      0.92        13\n",
      "           4       0.74      0.81      0.77        21\n",
      "\n",
      "    accuracy                           0.84        92\n",
      "   macro avg       0.84      0.82      0.83        92\n",
      "weighted avg       0.83      0.84      0.83        92\n",
      "\n"
     ]
    }
   ],
   "source": [
    "print(classification_report(y_val_org, predication_classes))"
   ]
  }
 ],
 "metadata": {
  "kernelspec": {
   "display_name": "Python 3 (ipykernel)",
   "language": "python",
   "name": "python3"
  },
  "language_info": {
   "codemirror_mode": {
    "name": "ipython",
    "version": 3
   },
   "file_extension": ".py",
   "mimetype": "text/x-python",
   "name": "python",
   "nbconvert_exporter": "python",
   "pygments_lexer": "ipython3",
   "version": "3.9.12"
  }
 },
 "nbformat": 4,
 "nbformat_minor": 5
}
