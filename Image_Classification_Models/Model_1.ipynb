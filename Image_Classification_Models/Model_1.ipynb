{
 "cells": [
  {
   "cell_type": "code",
   "execution_count": 198,
   "id": "8ea91092",
   "metadata": {},
   "outputs": [],
   "source": [
    "import numpy as np # linear algebra\n",
    "import pandas as pd # data processing, CSV file I/O (e.g. pd.read_csv)\n",
    "import os\n",
    "import matplotlib.pyplot as plt\n",
    "import seaborn as sns\n",
    "import tensorflow as tf\n",
    "import keras\n",
    "from PIL import Image\n",
    "from keras.preprocessing import image\n",
    "from keras.models import Sequential\n",
    "from keras.layers import Conv2D, MaxPool2D, Flatten,Dense,Dropout,BatchNormalization\n",
    "from tensorflow.keras.preprocessing.image import ImageDataGenerator\n",
    "import cv2\n",
    "from keras.layers import Input, Lambda, Dense, Flatten\n",
    "from tensorflow.keras.applications import VGG16, InceptionResNetV2\n",
    "from keras import regularizers\n",
    "from sklearn.metrics import classification_report\n",
    "from tensorflow.keras.callbacks import EarlyStopping\n",
    "\n",
    "from tensorflow.keras.optimizers import Adam,RMSprop,SGD,Adamax"
   ]
  },
  {
   "cell_type": "code",
   "execution_count": 176,
   "id": "31095d58",
   "metadata": {},
   "outputs": [],
   "source": [
    "from PIL import ImageFile\n",
    "ImageFile.LOAD_TRUNCATED_IMAGES = True"
   ]
  },
  {
   "cell_type": "markdown",
   "id": "62ef2c0f",
   "metadata": {},
   "source": [
    "### Read the train and test file "
   ]
  },
  {
   "cell_type": "code",
   "execution_count": 222,
   "id": "28ba454a",
   "metadata": {},
   "outputs": [],
   "source": [
    "#Read the train and test file \n",
    "\n",
    "train_dir = '/Users/fatimah/Desktop/DATASET-2/TRAIN'\n",
    "test_dir = '/Users/fatimah/Desktop/DATASET-2/TEST'"
   ]
  },
  {
   "cell_type": "markdown",
   "id": "2b4e233b",
   "metadata": {},
   "source": [
    "### List each images with their label in dataframe"
   ]
  },
  {
   "cell_type": "code",
   "execution_count": 224,
   "id": "c3403876",
   "metadata": {},
   "outputs": [],
   "source": [
    "filenames,labels = [],[]\n",
    "\n",
    "for dirname in os.listdir(f'{train_dir}'):\n",
    "    for file in os.listdir(f'{train_dir}/{dirname}'):\n",
    "        filenames.append(file)\n",
    "        labels.append(dirname)\n",
    "\n",
    "df_train = pd.DataFrame(data={\n",
    "    'filename': filenames,\n",
    "    'labels': labels\n",
    "})"
   ]
  },
  {
   "cell_type": "code",
   "execution_count": 225,
   "id": "23de435d",
   "metadata": {},
   "outputs": [
    {
     "data": {
      "text/html": [
       "<div>\n",
       "<style scoped>\n",
       "    .dataframe tbody tr th:only-of-type {\n",
       "        vertical-align: middle;\n",
       "    }\n",
       "\n",
       "    .dataframe tbody tr th {\n",
       "        vertical-align: top;\n",
       "    }\n",
       "\n",
       "    .dataframe thead th {\n",
       "        text-align: right;\n",
       "    }\n",
       "</style>\n",
       "<table border=\"1\" class=\"dataframe\">\n",
       "  <thead>\n",
       "    <tr style=\"text-align: right;\">\n",
       "      <th></th>\n",
       "      <th>filename</th>\n",
       "      <th>labels</th>\n",
       "    </tr>\n",
       "  </thead>\n",
       "  <tbody>\n",
       "    <tr>\n",
       "      <th>0</th>\n",
       "      <td>00000372.jpg</td>\n",
       "      <td>downdog</td>\n",
       "    </tr>\n",
       "    <tr>\n",
       "      <th>1</th>\n",
       "      <td>00000414.jpg</td>\n",
       "      <td>downdog</td>\n",
       "    </tr>\n",
       "    <tr>\n",
       "      <th>2</th>\n",
       "      <td>00000158.jpg</td>\n",
       "      <td>downdog</td>\n",
       "    </tr>\n",
       "    <tr>\n",
       "      <th>3</th>\n",
       "      <td>00000164.jpg</td>\n",
       "      <td>downdog</td>\n",
       "    </tr>\n",
       "    <tr>\n",
       "      <th>4</th>\n",
       "      <td>00000170.jpg</td>\n",
       "      <td>downdog</td>\n",
       "    </tr>\n",
       "  </tbody>\n",
       "</table>\n",
       "</div>"
      ],
      "text/plain": [
       "       filename   labels\n",
       "0  00000372.jpg  downdog\n",
       "1  00000414.jpg  downdog\n",
       "2  00000158.jpg  downdog\n",
       "3  00000164.jpg  downdog\n",
       "4  00000170.jpg  downdog"
      ]
     },
     "execution_count": 225,
     "metadata": {},
     "output_type": "execute_result"
    }
   ],
   "source": [
    "df_train.head()"
   ]
  },
  {
   "cell_type": "markdown",
   "id": "bccb45ae",
   "metadata": {},
   "source": [
    "### List our 5 labels"
   ]
  },
  {
   "cell_type": "code",
   "execution_count": 227,
   "id": "7e726f50",
   "metadata": {},
   "outputs": [
    {
     "name": "stdout",
     "output_type": "stream",
     "text": [
      "['downdog', 'tree', 'warrior2', 'goddess', 'plank']\n"
     ]
    },
    {
     "data": {
      "text/plain": [
       "5"
      ]
     },
     "execution_count": 227,
     "metadata": {},
     "output_type": "execute_result"
    }
   ],
   "source": [
    "num_classes = list(df_train.labels.unique())\n",
    "print(num_classes)\n",
    "len(num_classes)"
   ]
  },
  {
   "cell_type": "markdown",
   "id": "af87fd9b",
   "metadata": {},
   "source": [
    "### Rescale the train and test images \n",
    "\n"
   ]
  },
  {
   "cell_type": "code",
   "execution_count": 229,
   "id": "74b81299",
   "metadata": {},
   "outputs": [],
   "source": [
    "# Rescale the train and test \n",
    "\n",
    "train_datagen = ImageDataGenerator(width_shift_range= 0.1,\n",
    "                                  horizontal_flip = True,\n",
    "                                  rescale = 1./255,\n",
    "                                  validation_split = 0.2)\n",
    "test_datagen = ImageDataGenerator(rescale = 1./255,\n",
    "                                 validation_split = 0.2)"
   ]
  },
  {
   "cell_type": "code",
   "execution_count": 179,
   "id": "b83d7edc",
   "metadata": {},
   "outputs": [
    {
     "name": "stdout",
     "output_type": "stream",
     "text": [
      "Found 866 images belonging to 5 classes.\n",
      "Found 92 images belonging to 5 classes.\n"
     ]
    }
   ],
   "source": [
    "train_generator =  train_datagen.flow_from_directory(directory = train_dir,\n",
    "                                                    target_size = (224,224),\n",
    "                                                    color_mode = 'rgb',\n",
    "                                                    class_mode = 'categorical',\n",
    "                                                    batch_size = 16,\n",
    "                                                    subset = 'training')\n",
    "validation_generator  = test_datagen.flow_from_directory(directory = test_dir,\n",
    "                                                  target_size = (224,224),\n",
    "                                                  color_mode = 'rgb',\n",
    "                                                  class_mode = 'categorical',\n",
    "                                                  subset = 'validation')"
   ]
  },
  {
   "cell_type": "markdown",
   "id": "9f09d5a8",
   "metadata": {},
   "source": [
    "### Create the model "
   ]
  },
  {
   "cell_type": "code",
   "execution_count": 200,
   "id": "8dd48690",
   "metadata": {},
   "outputs": [],
   "source": [
    "model = tf.keras.models.Sequential([\n",
    "   # Using two filter in hidden layer with Acticition funcation 'relu'\n",
    "    tf.keras.layers.Conv2D(64, (3,3), activation='relu',padding = 'Same', input_shape=(224, 224, 3)),\n",
    "    #Use MaxPooling to reduce the dimensions of the feature map\n",
    "    tf.keras.layers.MaxPooling2D(2, 2),\n",
    "     #Use dropout layer to prevent the overfitting\n",
    "    tf.keras.layers.Dropout(0.25),\n",
    "    tf.keras.layers.Conv2D(128, (3,3), activation='relu',padding = 'Same'),\n",
    "    tf.keras.layers.MaxPooling2D(2,2),\n",
    "    tf.keras.layers.Dropout(0.25),\n",
    "    \n",
    "\n",
    "   #using the flatten is converting the data into a 1-dimensional array for inputting it to the next layer.\n",
    "\n",
    "    tf.keras.layers.Flatten(),\n",
    "    tf.keras.layers.Dense(100, activation='relu'),\n",
    "    tf.keras.layers.Dropout(0.5),\n",
    " \n",
    "    # The output layer using the softmax funcation because our output contain of 5 classes \n",
    "    tf.keras.layers.Dense(5, activation='softmax')\n",
    "])\n",
    "\n"
   ]
  },
  {
   "cell_type": "markdown",
   "id": "ea3bab39",
   "metadata": {},
   "source": [
    "### Compile the model "
   ]
  },
  {
   "cell_type": "code",
   "execution_count": 203,
   "id": "2c470320",
   "metadata": {},
   "outputs": [],
   "source": [
    "\n",
    "#Using 'adam' optimizer with 15 epoch \n",
    "\n",
    "optimizer = Adam(lr=0.001)\n",
    "model.compile(loss='categorical_crossentropy',\n",
    "              optimizer = optimizer,\n",
    "              metrics=['accuracy'],\n",
    "             )\n",
    "epochs = 15  \n",
    "batch_size = 16"
   ]
  },
  {
   "cell_type": "markdown",
   "id": "10865ae5",
   "metadata": {},
   "source": [
    "### Model summary "
   ]
  },
  {
   "cell_type": "code",
   "execution_count": 187,
   "id": "f15c58bc",
   "metadata": {},
   "outputs": [
    {
     "name": "stdout",
     "output_type": "stream",
     "text": [
      "Model: \"sequential_19\"\n",
      "_________________________________________________________________\n",
      " Layer (type)                Output Shape              Param #   \n",
      "=================================================================\n",
      " conv2d_22 (Conv2D)          (None, 224, 224, 64)      1792      \n",
      "                                                                 \n",
      " max_pooling2d_21 (MaxPoolin  (None, 112, 112, 64)     0         \n",
      " g2D)                                                            \n",
      "                                                                 \n",
      " dropout_28 (Dropout)        (None, 112, 112, 64)      0         \n",
      "                                                                 \n",
      " conv2d_23 (Conv2D)          (None, 112, 112, 128)     73856     \n",
      "                                                                 \n",
      " max_pooling2d_22 (MaxPoolin  (None, 56, 56, 128)      0         \n",
      " g2D)                                                            \n",
      "                                                                 \n",
      " dropout_29 (Dropout)        (None, 56, 56, 128)       0         \n",
      "                                                                 \n",
      " flatten_12 (Flatten)        (None, 401408)            0         \n",
      "                                                                 \n",
      " dense_23 (Dense)            (None, 100)               40140900  \n",
      "                                                                 \n",
      " dropout_30 (Dropout)        (None, 100)               0         \n",
      "                                                                 \n",
      " dense_24 (Dense)            (None, 5)                 505       \n",
      "                                                                 \n",
      "=================================================================\n",
      "Total params: 40,217,053\n",
      "Trainable params: 40,217,053\n",
      "Non-trainable params: 0\n",
      "_________________________________________________________________\n"
     ]
    }
   ],
   "source": [
    "\n",
    "\n",
    "model.summary()"
   ]
  },
  {
   "cell_type": "markdown",
   "id": "520bf7cc",
   "metadata": {},
   "source": [
    "### Fit the model"
   ]
  },
  {
   "cell_type": "code",
   "execution_count": 204,
   "id": "a670c7d1",
   "metadata": {},
   "outputs": [
    {
     "name": "stdout",
     "output_type": "stream",
     "text": [
      "Epoch 1/15\n",
      "10/55 [====>.........................] - ETA: 2:07 - loss: 16.6783 - accuracy: 0.2500"
     ]
    },
    {
     "name": "stderr",
     "output_type": "stream",
     "text": [
      "/Users/fatimah/opt/anaconda3/lib/python3.9/site-packages/PIL/Image.py:945: UserWarning: Palette images with Transparency expressed in bytes should be converted to RGBA images\n",
      "  warnings.warn(\n"
     ]
    },
    {
     "name": "stdout",
     "output_type": "stream",
     "text": [
      "55/55 [==============================] - 169s 3s/step - loss: 4.3939 - accuracy: 0.2206 - val_loss: 1.6007 - val_accuracy: 0.1739\n",
      "Epoch 2/15\n",
      "55/55 [==============================] - 158s 3s/step - loss: 1.5968 - accuracy: 0.2275 - val_loss: 1.5304 - val_accuracy: 0.2935\n",
      "Epoch 3/15\n",
      "55/55 [==============================] - 155s 3s/step - loss: 1.5545 - accuracy: 0.3441 - val_loss: 1.4421 - val_accuracy: 0.5326\n",
      "Epoch 4/15\n",
      "55/55 [==============================] - 147s 3s/step - loss: 1.4440 - accuracy: 0.4388 - val_loss: 1.3869 - val_accuracy: 0.5435\n",
      "Epoch 5/15\n",
      "55/55 [==============================] - 164s 3s/step - loss: 1.3742 - accuracy: 0.4411 - val_loss: 1.0433 - val_accuracy: 0.6413\n",
      "Epoch 6/15\n",
      "55/55 [==============================] - 158s 3s/step - loss: 1.2848 - accuracy: 0.4873 - val_loss: 1.1930 - val_accuracy: 0.6630\n",
      "Epoch 7/15\n",
      "55/55 [==============================] - 146s 3s/step - loss: 1.2222 - accuracy: 0.5427 - val_loss: 0.8885 - val_accuracy: 0.7391\n",
      "Epoch 8/15\n",
      "55/55 [==============================] - 147s 3s/step - loss: 1.1614 - accuracy: 0.5566 - val_loss: 0.9760 - val_accuracy: 0.7609\n",
      "Epoch 9/15\n",
      "55/55 [==============================] - 148s 3s/step - loss: 1.0977 - accuracy: 0.5912 - val_loss: 0.7838 - val_accuracy: 0.7717\n",
      "Epoch 10/15\n",
      "55/55 [==============================] - 145s 3s/step - loss: 1.0663 - accuracy: 0.6109 - val_loss: 0.7343 - val_accuracy: 0.7609\n",
      "Epoch 11/15\n",
      "55/55 [==============================] - 146s 3s/step - loss: 0.9607 - accuracy: 0.6328 - val_loss: 0.7000 - val_accuracy: 0.7717\n",
      "Epoch 12/15\n",
      "55/55 [==============================] - 147s 3s/step - loss: 0.9474 - accuracy: 0.6513 - val_loss: 0.6439 - val_accuracy: 0.7717\n",
      "Epoch 13/15\n",
      "55/55 [==============================] - 147s 3s/step - loss: 0.8553 - accuracy: 0.6975 - val_loss: 0.5691 - val_accuracy: 0.8152\n",
      "Epoch 14/15\n",
      "55/55 [==============================] - 150s 3s/step - loss: 0.8368 - accuracy: 0.6778 - val_loss: 0.6426 - val_accuracy: 0.8261\n",
      "Epoch 15/15\n",
      "55/55 [==============================] - 173s 3s/step - loss: 0.7902 - accuracy: 0.7113 - val_loss: 0.5229 - val_accuracy: 0.8587\n"
     ]
    }
   ],
   "source": [
    "history = model.fit(train_generator, epochs = epochs,validation_data = validation_generator )"
   ]
  },
  {
   "cell_type": "markdown",
   "id": "f1d0b26c",
   "metadata": {},
   "source": [
    "### Accuracy and Loss Plot"
   ]
  },
  {
   "cell_type": "code",
   "execution_count": 190,
   "id": "e59fe588",
   "metadata": {},
   "outputs": [
    {
     "data": {
      "image/png": "[encoded data removed]",
      "text/plain": [
       "<Figure size 864x288 with 2 Axes>"
      ]
     },
     "metadata": {
      "needs_background": "light"
     },
     "output_type": "display_data"
    }
   ],
   "source": [
    "\n",
    "fig , ax = plt.subplots(1,2)\n",
    "train_acc = history.history['accuracy']\n",
    "train_loss = history.history['loss']\n",
    "fig.set_size_inches(12,4)\n",
    "\n",
    "ax[0].plot(history.history['accuracy'])\n",
    "ax[0].plot(history.history['val_accuracy'])\n",
    "ax[0].set_title('Training Accuracy vs Validation Accuracy')\n",
    "ax[0].set_ylabel('Accuracy')\n",
    "ax[0].set_xlabel('Epoch')\n",
    "ax[0].legend(['Train', 'Validation'], loc='upper left')\n",
    "\n",
    "ax[1].plot(history.history['loss'])\n",
    "ax[1].plot(history.history['val_loss'])\n",
    "ax[1].set_title('Training Loss vs Validation Loss')\n",
    "ax[1].set_ylabel('Loss')\n",
    "ax[1].set_xlabel('Epoch')\n",
    "ax[1].legend(['Train', 'Validation'], loc='upper left')\n",
    "\n",
    "plt.show()"
   ]
  },
  {
   "cell_type": "markdown",
   "id": "6d58380d",
   "metadata": {},
   "source": [
    "### Extract the label from the validition "
   ]
  },
  {
   "cell_type": "code",
   "execution_count": 191,
   "id": "56d04712",
   "metadata": {},
   "outputs": [],
   "source": [
    "#Extract label from test_set\n",
    "\n",
    "\n",
    "y_val_org = []\n",
    "for i in range( validation_generator.__len__() ):\n",
    "    y_val_org.extend(\n",
    "        validation_generator.__getitem__( i )[1] \n",
    "    )\n",
    "y_val_org = np.array(y_val_org)\n",
    "y_val_org = np.argmax(y_val_org, axis=1)"
   ]
  },
  {
   "cell_type": "markdown",
   "id": "2da3f6ec",
   "metadata": {},
   "source": [
    "### predication of validation "
   ]
  },
  {
   "cell_type": "code",
   "execution_count": 193,
   "id": "e53be6fb",
   "metadata": {},
   "outputs": [
    {
     "name": "stdout",
     "output_type": "stream",
     "text": [
      "3/3 [==============================] - 4s 1s/step\n"
     ]
    },
    {
     "data": {
      "text/plain": [
       "array([[9.95140406e-04, 2.62352765e-01, 3.33255865e-02, 5.01052057e-03,\n",
       "        6.98315978e-01],\n",
       "       [2.07687658e-03, 1.73148001e-03, 9.94339049e-01, 1.34206202e-03,\n",
       "        5.10544109e-04],\n",
       "       [8.03142965e-01, 1.38418004e-02, 1.45317033e-01, 1.21913254e-02,\n",
       "        2.55068988e-02],\n",
       "       [3.53528420e-03, 7.41586983e-01, 1.85356569e-02, 2.42281314e-02,\n",
       "        2.12113917e-01],\n",
       "       [1.02186352e-01, 5.74965477e-01, 1.90611891e-02, 1.25144152e-02,\n",
       "        2.91272581e-01],\n",
       "       [9.90565658e-01, 3.85678053e-04, 5.83879696e-03, 8.55162856e-04,\n",
       "        2.35469406e-03],\n",
       "       [7.46669054e-01, 2.57414649e-05, 2.50989735e-01, 2.31361995e-03,\n",
       "        1.88659067e-06],\n",
       "       [8.12885582e-01, 3.27401124e-02, 7.46427253e-02, 1.21594046e-03,\n",
       "        7.85155892e-02],\n",
       "       [2.58211881e-01, 2.75960248e-02, 7.04897225e-01, 1.96007197e-03,\n",
       "        7.33481953e-03],\n",
       "       [7.37039298e-02, 1.27794743e-01, 1.92112997e-02, 2.33799703e-02,\n",
       "        7.55910099e-01],\n",
       "       [6.46604002e-01, 2.08025482e-02, 2.36059457e-01, 2.35892106e-02,\n",
       "        7.29448274e-02],\n",
       "       [2.01668426e-01, 1.45083174e-01, 4.83802378e-01, 6.71775565e-02,\n",
       "        1.02268510e-01],\n",
       "       [6.32465184e-02, 2.20704079e-01, 1.58572067e-02, 1.74478009e-01,\n",
       "        5.25714219e-01],\n",
       "       [1.74766090e-02, 2.99901843e-01, 8.49277340e-03, 1.51552807e-03,\n",
       "        6.72613263e-01],\n",
       "       [7.11792288e-03, 6.78481311e-02, 1.25946507e-01, 2.14473763e-03,\n",
       "        7.96942711e-01],\n",
       "       [5.02821088e-01, 2.02726766e-01, 5.78688197e-02, 2.95758490e-02,\n",
       "        2.07007468e-01],\n",
       "       [1.75018609e-02, 1.39898390e-01, 2.08659265e-02, 2.32432298e-02,\n",
       "        7.98490584e-01],\n",
       "       [5.28765857e-01, 6.71618208e-02, 1.54948965e-01, 7.57176206e-02,\n",
       "        1.73405707e-01],\n",
       "       [9.93320704e-01, 5.44932322e-04, 2.67592235e-03, 8.65674403e-04,\n",
       "        2.59281765e-03],\n",
       "       [9.99422669e-01, 1.06251446e-05, 2.86217750e-04, 5.91234857e-05,\n",
       "        2.21519163e-04],\n",
       "       [5.02176732e-02, 3.65179568e-03, 9.37019706e-01, 1.06853794e-03,\n",
       "        8.04236718e-03],\n",
       "       [1.70180112e-01, 2.24491253e-01, 4.33203280e-01, 6.98974356e-02,\n",
       "        1.02227986e-01],\n",
       "       [9.99732673e-01, 1.09669518e-09, 2.67365831e-04, 7.52946427e-10,\n",
       "        2.97879033e-09],\n",
       "       [8.08303356e-02, 1.32012904e-01, 6.12575896e-02, 5.87768674e-01,\n",
       "        1.38130575e-01],\n",
       "       [8.25795650e-01, 9.26624611e-02, 2.32950617e-02, 3.54552753e-02,\n",
       "        2.27915887e-02],\n",
       "       [9.99934435e-01, 4.94845210e-07, 6.46964545e-05, 2.34772884e-07,\n",
       "        1.26351040e-07],\n",
       "       [1.78507250e-02, 6.47327537e-03, 9.62933064e-01, 2.33198772e-03,\n",
       "        1.04109244e-02],\n",
       "       [9.99896526e-01, 7.15583894e-07, 9.49343666e-05, 6.51975142e-06,\n",
       "        1.35020582e-06],\n",
       "       [7.95050617e-03, 6.67642474e-01, 2.01267023e-02, 4.88868803e-02,\n",
       "        2.55393416e-01],\n",
       "       [2.29644384e-02, 8.41564238e-01, 8.42551142e-03, 1.52269192e-02,\n",
       "        1.11818872e-01],\n",
       "       [7.70114595e-03, 1.12443633e-01, 8.40465203e-02, 2.02959334e-03,\n",
       "        7.93779075e-01],\n",
       "       [4.20252569e-02, 9.37105194e-02, 2.31913812e-02, 7.08168566e-01,\n",
       "        1.32904291e-01],\n",
       "       [5.74861187e-03, 3.27244997e-02, 1.53579088e-02, 1.64051575e-03,\n",
       "        9.44528520e-01],\n",
       "       [1.38316154e-01, 3.01595151e-01, 5.72716594e-02, 4.57000397e-02,\n",
       "        4.57116991e-01],\n",
       "       [7.05348037e-04, 1.67470332e-02, 2.77684024e-03, 9.74066138e-01,\n",
       "        5.70458919e-03],\n",
       "       [1.25023618e-08, 2.32630882e-05, 2.44150129e-07, 9.99902129e-01,\n",
       "        7.43197306e-05],\n",
       "       [1.05511601e-04, 5.00337919e-03, 2.12987233e-03, 9.81140018e-01,\n",
       "        1.16212964e-02],\n",
       "       [1.20515227e-01, 4.65560779e-02, 7.28393495e-01, 6.83231577e-02,\n",
       "        3.62120457e-02],\n",
       "       [2.05217022e-03, 2.10707728e-02, 4.90654260e-03, 6.76076859e-04,\n",
       "        9.71294463e-01],\n",
       "       [9.71495247e-05, 2.61152238e-01, 1.39861440e-04, 6.12237491e-04,\n",
       "        7.37998545e-01],\n",
       "       [2.95741409e-02, 9.83309746e-03, 9.21987891e-01, 3.14498283e-02,\n",
       "        7.15508778e-03],\n",
       "       [5.02854645e-01, 2.71036476e-02, 4.23512965e-01, 2.21154150e-02,\n",
       "        2.44132746e-02],\n",
       "       [9.94590763e-03, 9.85908329e-01, 1.02315564e-03, 5.60096581e-04,\n",
       "        2.56254897e-03],\n",
       "       [3.52230631e-02, 4.59594931e-03, 9.52120364e-01, 4.81282175e-03,\n",
       "        3.24783730e-03],\n",
       "       [1.52025387e-01, 2.60822535e-01, 1.18368812e-01, 1.90274402e-01,\n",
       "        2.78508842e-01],\n",
       "       [4.55474764e-01, 1.96912028e-02, 3.88776004e-01, 4.46325503e-02,\n",
       "        9.14254859e-02],\n",
       "       [3.87578366e-05, 3.00143007e-03, 4.41087002e-04, 5.25085352e-06,\n",
       "        9.96513546e-01],\n",
       "       [2.27337912e-01, 1.91995263e-01, 9.15450230e-02, 7.80248567e-02,\n",
       "        4.11096931e-01],\n",
       "       [4.42957025e-05, 4.10097098e-04, 7.16731665e-05, 9.97945011e-01,\n",
       "        1.52894959e-03],\n",
       "       [3.09867412e-01, 7.01155439e-02, 5.09828627e-01, 6.43552318e-02,\n",
       "        4.58332524e-02],\n",
       "       [1.97772421e-02, 5.85190542e-02, 1.13990884e-02, 5.33032173e-04,\n",
       "        9.09771562e-01],\n",
       "       [5.08463196e-02, 3.81283686e-02, 7.82849908e-01, 4.44165021e-02,\n",
       "        8.37589279e-02],\n",
       "       [2.13748049e-02, 2.49239966e-01, 7.15784878e-02, 1.83676928e-02,\n",
       "        6.39439046e-01],\n",
       "       [3.68592329e-02, 1.24691598e-01, 8.01882625e-01, 1.10002486e-02,\n",
       "        2.55662538e-02],\n",
       "       [8.95606718e-07, 1.59375393e-03, 1.06919397e-05, 9.97703969e-01,\n",
       "        6.90739776e-04],\n",
       "       [4.64267060e-02, 6.55798197e-01, 6.60528168e-02, 8.60936493e-02,\n",
       "        1.45628631e-01],\n",
       "       [4.12852094e-02, 3.40343535e-01, 2.51511522e-02, 4.61190976e-02,\n",
       "        5.47101021e-01],\n",
       "       [9.56360623e-03, 1.73951596e-01, 7.30897412e-02, 3.45617570e-02,\n",
       "        7.08833277e-01],\n",
       "       [9.99815762e-01, 4.15614068e-06, 1.43500263e-04, 3.30185030e-05,\n",
       "        3.60899276e-06],\n",
       "       [7.98220746e-03, 1.61483772e-02, 1.80153060e-03, 9.47329044e-01,\n",
       "        2.67389063e-02],\n",
       "       [1.23018716e-02, 2.35359788e-01, 4.67170915e-03, 1.10288886e-02,\n",
       "        7.36637712e-01],\n",
       "       [7.69268751e-01, 2.56432611e-02, 1.54237479e-01, 3.50427395e-03,\n",
       "        4.73462567e-02],\n",
       "       [9.35358584e-01, 2.57769097e-02, 2.27743778e-02, 5.08752745e-03,\n",
       "        1.10026347e-02],\n",
       "       [4.68710288e-02, 4.36209083e-01, 1.57695398e-01, 1.56129315e-01,\n",
       "        2.03095064e-01],\n",
       "       [7.68574281e-03, 4.92280303e-03, 9.71446216e-01, 3.18514439e-03,\n",
       "        1.27600329e-02],\n",
       "       [2.65417881e-02, 1.72889256e-03, 9.59885657e-01, 2.81550991e-03,\n",
       "        9.02817585e-03],\n",
       "       [1.12864949e-01, 4.34233434e-02, 7.71848381e-01, 1.59313753e-02,\n",
       "        5.59319071e-02],\n",
       "       [3.79724167e-02, 1.05280958e-01, 6.80532873e-01, 1.08343348e-01,\n",
       "        6.78704828e-02],\n",
       "       [3.17929327e-01, 1.56485394e-01, 2.32679293e-01, 5.36973104e-02,\n",
       "        2.39208728e-01],\n",
       "       [1.98282339e-02, 5.38381562e-03, 9.72695172e-01, 9.86199710e-04,\n",
       "        1.10650226e-03],\n",
       "       [1.28005147e-02, 2.65207011e-02, 7.76800420e-03, 9.00319993e-01,\n",
       "        5.25908284e-02],\n",
       "       [5.52496756e-04, 2.85696052e-02, 7.99172465e-03, 1.08699163e-03,\n",
       "        9.61799204e-01],\n",
       "       [5.26757479e-01, 6.42338544e-02, 9.84634012e-02, 2.07991809e-01,\n",
       "        1.02553405e-01],\n",
       "       [9.99708116e-01, 3.88388889e-06, 2.87251780e-04, 4.96706548e-07,\n",
       "        2.80113483e-07],\n",
       "       [1.25617072e-01, 6.93215191e-01, 1.66980550e-02, 4.11300734e-02,\n",
       "        1.23339541e-01],\n",
       "       [1.41924759e-02, 5.20154648e-02, 4.90133435e-01, 2.28705220e-02,\n",
       "        4.20788080e-01],\n",
       "       [2.86856653e-06, 9.96207356e-01, 9.94750371e-06, 2.33247847e-05,\n",
       "        3.75651265e-03],\n",
       "       [1.35627836e-02, 7.20791519e-03, 5.53508475e-03, 8.31915736e-01,\n",
       "        1.41778469e-01],\n",
       "       [2.16307804e-01, 2.22204737e-02, 6.63798869e-01, 2.18338966e-02,\n",
       "        7.58389905e-02],\n",
       "       [4.48283153e-08, 1.37647934e-04, 3.98977427e-05, 2.65355311e-07,\n",
       "        9.99822199e-01],\n",
       "       [2.19441444e-01, 3.48021299e-01, 5.88672943e-02, 5.87364361e-02,\n",
       "        3.14933509e-01],\n",
       "       [9.67603087e-01, 2.35501956e-03, 1.83689427e-02, 6.94199000e-04,\n",
       "        1.09787714e-02],\n",
       "       [7.95570612e-01, 1.05338749e-02, 1.90063715e-01, 2.68277270e-03,\n",
       "        1.14905462e-03],\n",
       "       [2.94213593e-02, 1.40636623e-01, 4.47557122e-02, 4.58866030e-01,\n",
       "        3.26320261e-01],\n",
       "       [1.44380203e-03, 7.01970933e-03, 2.64793239e-03, 9.74753737e-01,\n",
       "        1.41348029e-02],\n",
       "       [6.01467764e-05, 2.08043568e-02, 2.77668238e-04, 3.33116714e-06,\n",
       "        9.78854537e-01],\n",
       "       [1.17844693e-01, 1.91228509e-01, 5.57155907e-03, 2.40109235e-04,\n",
       "        6.85115159e-01],\n",
       "       [7.90385678e-02, 1.95716262e-01, 4.41400737e-01, 1.78377584e-01,\n",
       "        1.05466798e-01],\n",
       "       [9.83498752e-01, 8.67750868e-03, 1.56014937e-03, 6.15464742e-05,\n",
       "        6.20216830e-03],\n",
       "       [2.12295219e-01, 6.24155104e-01, 5.23349503e-03, 8.48477706e-03,\n",
       "        1.49831399e-01],\n",
       "       [8.45512524e-02, 1.00786857e-01, 5.37037313e-01, 1.20005079e-01,\n",
       "        1.57619476e-01],\n",
       "       [2.64653172e-02, 1.34251453e-02, 9.51161385e-01, 2.88338191e-03,\n",
       "        6.06491137e-03]], dtype=float32)"
      ]
     },
     "execution_count": 193,
     "metadata": {},
     "output_type": "execute_result"
    }
   ],
   "source": [
    "predication = model.predict(validation_generator)\n",
    "\n",
    "predication"
   ]
  },
  {
   "cell_type": "markdown",
   "id": "511650b0",
   "metadata": {},
   "source": [
    "### convert predication into label "
   ]
  },
  {
   "cell_type": "code",
   "execution_count": 194,
   "id": "548bc1a7",
   "metadata": {},
   "outputs": [
    {
     "data": {
      "text/plain": [
       "[4,\n",
       " 2,\n",
       " 0,\n",
       " 1,\n",
       " 1,\n",
       " 0,\n",
       " 0,\n",
       " 0,\n",
       " 2,\n",
       " 4,\n",
       " 0,\n",
       " 2,\n",
       " 4,\n",
       " 4,\n",
       " 4,\n",
       " 0,\n",
       " 4,\n",
       " 0,\n",
       " 0,\n",
       " 0,\n",
       " 2,\n",
       " 2,\n",
       " 0,\n",
       " 3,\n",
       " 0,\n",
       " 0,\n",
       " 2,\n",
       " 0,\n",
       " 1,\n",
       " 1,\n",
       " 4,\n",
       " 3,\n",
       " 4,\n",
       " 4,\n",
       " 3,\n",
       " 3,\n",
       " 3,\n",
       " 2,\n",
       " 4,\n",
       " 4,\n",
       " 2,\n",
       " 0,\n",
       " 1,\n",
       " 2,\n",
       " 4,\n",
       " 0,\n",
       " 4,\n",
       " 4,\n",
       " 3,\n",
       " 2,\n",
       " 4,\n",
       " 2,\n",
       " 4,\n",
       " 2,\n",
       " 3,\n",
       " 1,\n",
       " 4,\n",
       " 4,\n",
       " 0,\n",
       " 3,\n",
       " 4,\n",
       " 0,\n",
       " 0,\n",
       " 1,\n",
       " 2,\n",
       " 2,\n",
       " 2,\n",
       " 2,\n",
       " 0,\n",
       " 2,\n",
       " 3,\n",
       " 4,\n",
       " 0,\n",
       " 0,\n",
       " 1,\n",
       " 2,\n",
       " 1,\n",
       " 3,\n",
       " 2,\n",
       " 4,\n",
       " 1,\n",
       " 0,\n",
       " 0,\n",
       " 3,\n",
       " 3,\n",
       " 4,\n",
       " 4,\n",
       " 2,\n",
       " 0,\n",
       " 1,\n",
       " 2,\n",
       " 2]"
      ]
     },
     "execution_count": 194,
     "metadata": {},
     "output_type": "execute_result"
    }
   ],
   "source": [
    "\n",
    "\n",
    "predication_classes = [np.argmax(element) for element in predication]\n",
    "predication_classes"
   ]
  },
  {
   "cell_type": "markdown",
   "id": "b3268c19",
   "metadata": {},
   "source": [
    "### classification Report"
   ]
  },
  {
   "cell_type": "code",
   "execution_count": 195,
   "id": "1608368e",
   "metadata": {},
   "outputs": [
    {
     "name": "stdout",
     "output_type": "stream",
     "text": [
      "              precision    recall  f1-score   support\n",
      "\n",
      "           0       0.79      1.00      0.88        19\n",
      "           1       0.82      0.56      0.67        16\n",
      "           2       0.95      0.91      0.93        23\n",
      "           3       1.00      0.92      0.96        13\n",
      "           4       0.74      0.81      0.77        21\n",
      "\n",
      "    accuracy                           0.85        92\n",
      "   macro avg       0.86      0.84      0.84        92\n",
      "weighted avg       0.85      0.85      0.84        92\n",
      "\n"
     ]
    }
   ],
   "source": [
    "print(classification_report(y_val_org, predication_classes))"
   ]
  },
  {
   "cell_type": "code",
   "execution_count": null,
   "id": "77a7228b",
   "metadata": {},
   "outputs": [],
   "source": []
  }
 ],
 "metadata": {
  "kernelspec": {
   "display_name": "Python 3 (ipykernel)",
   "language": "python",
   "name": "python3"
  },
  "language_info": {
   "codemirror_mode": {
    "name": "ipython",
    "version": 3
   },
   "file_extension": ".py",
   "mimetype": "text/x-python",
   "name": "python",
   "nbconvert_exporter": "python",
   "pygments_lexer": "ipython3",
   "version": "3.9.12"
  }
 },
 "nbformat": 4,
 "nbformat_minor": 5
}
