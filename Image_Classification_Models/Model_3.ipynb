{
 "cells": [
  {
   "cell_type": "markdown",
   "id": "d1a03f2b",
   "metadata": {},
   "source": [
    "# Yoga Poses Detection "
   ]
  },
  {
   "cell_type": "markdown",
   "id": "d0f45f91",
   "metadata": {},
   "source": [
    "# Libraries\n"
   ]
  },
  {
   "cell_type": "code",
   "execution_count": 97,
   "id": "1c52a7b3",
   "metadata": {},
   "outputs": [],
   "source": [
    "import numpy as np # linear algebra\n",
    "import pandas as pd # data processing, CSV file I/O (e.g. pd.read_csv)\n",
    "import os\n",
    "import matplotlib.pyplot as plt\n",
    "import seaborn as sns\n",
    "import tensorflow as tf\n",
    "import keras\n",
    "from PIL import Image\n",
    "from keras.preprocessing import image\n",
    "from keras.models import Sequential\n",
    "from keras.layers import Conv2D, MaxPool2D, Flatten,Dense,Dropout,BatchNormalization\n",
    "from tensorflow.keras.preprocessing.image import ImageDataGenerator\n",
    "import cv2\n",
    "from keras.layers import Input, Lambda, Dense, Flatten\n",
    "from tensorflow.keras.applications import VGG16, InceptionResNetV2\n",
    "from keras import regularizers\n",
    "from tensorflow.keras.optimizers import Adam,RMSprop,SGD,Adamax\n",
    "\n",
    "import pandas as pd\n",
    "from sklearn.metrics import classification_report\n"
   ]
  },
  {
   "cell_type": "code",
   "execution_count": 98,
   "id": "f28b04b5",
   "metadata": {},
   "outputs": [],
   "source": [
    "from PIL import ImageFile\n",
    "ImageFile.LOAD_TRUNCATED_IMAGES = True"
   ]
  },
  {
   "cell_type": "markdown",
   "id": "35f9ba2b",
   "metadata": {},
   "source": [
    "# Path"
   ]
  },
  {
   "cell_type": "code",
   "execution_count": 173,
   "id": "176f27f5",
   "metadata": {},
   "outputs": [],
   "source": [
    "#Read the train and test file \n",
    "\n",
    "train_dir = 'DATASET/TRAIN' #directory with training images\n",
    "test_dir = 'DATASET/TEST' #directory with testing images"
   ]
  },
  {
   "cell_type": "markdown",
   "id": "282aa84d",
   "metadata": {},
   "source": [
    "# Rescale the train and test images"
   ]
  },
  {
   "cell_type": "code",
   "execution_count": 14,
   "id": "d7c8600a",
   "metadata": {},
   "outputs": [],
   "source": [
    "train_datagen = ImageDataGenerator(width_shift_range= 0.1,\n",
    "                                  horizontal_flip = True,\n",
    "                                  rescale = 1./255,\n",
    "                                  validation_split = 0.2)\n",
    "test_datagen = ImageDataGenerator(rescale = 1./255,\n",
    "                                 validation_split = 0.2)"
   ]
  },
  {
   "cell_type": "code",
   "execution_count": 15,
   "id": "66867e00",
   "metadata": {},
   "outputs": [
    {
     "name": "stdout",
     "output_type": "stream",
     "text": [
      "Found 866 images belonging to 5 classes.\n",
      "Found 92 images belonging to 5 classes.\n"
     ]
    }
   ],
   "source": [
    "train_generator =  train_datagen.flow_from_directory(directory = train_dir,\n",
    "                                                    target_size = (224,224),\n",
    "                                                    color_mode = 'rgb',\n",
    "                                                    class_mode = 'categorical',\n",
    "                                                    batch_size = 16,\n",
    "                                                    subset = 'training')\n",
    "validation_generator  = test_datagen.flow_from_directory(directory = test_dir,\n",
    "                                                  target_size = (224,224),\n",
    "                                                  color_mode = 'rgb',\n",
    "                                                  class_mode = 'categorical',\n",
    "                                                  subset = 'validation')"
   ]
  },
  {
   "cell_type": "markdown",
   "id": "cac416bc",
   "metadata": {},
   "source": [
    "# Model"
   ]
  },
  {
   "cell_type": "code",
   "execution_count": 17,
   "id": "37276ef3",
   "metadata": {},
   "outputs": [
    {
     "name": "stderr",
     "output_type": "stream",
     "text": [
      "2022-11-04 15:32:00.907323: I tensorflow/core/platform/cpu_feature_guard.cc:193] This TensorFlow binary is optimized with oneAPI Deep Neural Network Library (oneDNN) to use the following CPU instructions in performance-critical operations:  AVX2 FMA\n",
      "To enable them in other operations, rebuild TensorFlow with the appropriate compiler flags.\n"
     ]
    }
   ],
   "source": [
    "# Adding Dropout layer to prevent overfitting problem and  dense layer with relu Activation function \n",
    "model = tf.keras.models.Sequential([\n",
    "    tf.keras.layers.Conv2D(64, (3,3), activation='relu',padding = 'Same', input_shape=(224, 224, 3)),\n",
    "    tf.keras.layers.MaxPooling2D(2, 2),\n",
    "    tf.keras.layers.Dropout(0.25),\n",
    "    tf.keras.layers.Conv2D(128, (3,3), activation='relu',padding = 'Same'),\n",
    "    tf.keras.layers.MaxPooling2D(2,2),\n",
    "    tf.keras.layers.Dropout(0.25),\n",
    "    tf.keras.layers.Conv2D(256, (3,3), activation='relu',padding = 'Same'),\n",
    "    tf.keras.layers.MaxPooling2D(2,2),\n",
    "    tf.keras.layers.Dropout(0.25),\n",
    "    tf.keras.layers.Flatten(),\n",
    "    tf.keras.layers.Dense(1024, activation='relu'),\n",
    "    tf.keras.layers.Dropout(0.5),\n",
    "    #output layer \n",
    "    tf.keras.layers.Dense(5, activation='softmax')\n",
    "])"
   ]
  },
  {
   "cell_type": "markdown",
   "id": "a6e2fb86",
   "metadata": {},
   "source": [
    "# Compile the model"
   ]
  },
  {
   "cell_type": "code",
   "execution_count": 18,
   "id": "1ad2992b",
   "metadata": {},
   "outputs": [],
   "source": [
    "#Using 'adam' optimizer with 50 epoch \n",
    "optimizer = Adam(lr=0.001)\n",
    "model.compile(loss='categorical_crossentropy',\n",
    "              optimizer = optimizer,\n",
    "              metrics=['accuracy'])\n",
    "epochs = 50  \n",
    "batch_size = 16"
   ]
  },
  {
   "cell_type": "markdown",
   "id": "64ab7cfa",
   "metadata": {},
   "source": [
    "# Model summary"
   ]
  },
  {
   "cell_type": "code",
   "execution_count": 19,
   "id": "fedb7dc5",
   "metadata": {},
   "outputs": [
    {
     "name": "stdout",
     "output_type": "stream",
     "text": [
      "Model: \"sequential\"\n",
      "_________________________________________________________________\n",
      " Layer (type)                Output Shape              Param #   \n",
      "=================================================================\n",
      " conv2d (Conv2D)             (None, 224, 224, 64)      1792      \n",
      "                                                                 \n",
      " max_pooling2d (MaxPooling2D  (None, 112, 112, 64)     0         \n",
      " )                                                               \n",
      "                                                                 \n",
      " dropout (Dropout)           (None, 112, 112, 64)      0         \n",
      "                                                                 \n",
      " conv2d_1 (Conv2D)           (None, 112, 112, 128)     73856     \n",
      "                                                                 \n",
      " max_pooling2d_1 (MaxPooling  (None, 56, 56, 128)      0         \n",
      " 2D)                                                             \n",
      "                                                                 \n",
      " dropout_1 (Dropout)         (None, 56, 56, 128)       0         \n",
      "                                                                 \n",
      " conv2d_2 (Conv2D)           (None, 56, 56, 256)       295168    \n",
      "                                                                 \n",
      " max_pooling2d_2 (MaxPooling  (None, 28, 28, 256)      0         \n",
      " 2D)                                                             \n",
      "                                                                 \n",
      " dropout_2 (Dropout)         (None, 28, 28, 256)       0         \n",
      "                                                                 \n",
      " flatten (Flatten)           (None, 200704)            0         \n",
      "                                                                 \n",
      " dense (Dense)               (None, 1024)              205521920 \n",
      "                                                                 \n",
      " dropout_3 (Dropout)         (None, 1024)              0         \n",
      "                                                                 \n",
      " dense_1 (Dense)             (None, 5)                 5125      \n",
      "                                                                 \n",
      "=================================================================\n",
      "Total params: 205,897,861\n",
      "Trainable params: 205,897,861\n",
      "Non-trainable params: 0\n",
      "_________________________________________________________________\n"
     ]
    }
   ],
   "source": [
    "model.summary()\n"
   ]
  },
  {
   "cell_type": "markdown",
   "id": "dc84abf1",
   "metadata": {},
   "source": [
    "# Fit the model"
   ]
  },
  {
   "cell_type": "code",
   "execution_count": 21,
   "id": "278c7614",
   "metadata": {
    "scrolled": false
   },
   "outputs": [
    {
     "name": "stdout",
     "output_type": "stream",
     "text": [
      "Epoch 1/50\n"
     ]
    },
    {
     "name": "stderr",
     "output_type": "stream",
     "text": [
      "/Users/areejalhuthali/opt/anaconda3/lib/python3.9/site-packages/PIL/Image.py:945: UserWarning: Palette images with Transparency expressed in bytes should be converted to RGBA images\n",
      "  warnings.warn(\n"
     ]
    },
    {
     "name": "stdout",
     "output_type": "stream",
     "text": [
      "55/55 [==============================] - 200s 4s/step - loss: 2.9373 - accuracy: 0.2471 - val_loss: 1.6007 - val_accuracy: 0.2500\n",
      "Epoch 2/50\n",
      "55/55 [==============================] - 176s 3s/step - loss: 1.6001 - accuracy: 0.2402 - val_loss: 1.5806 - val_accuracy: 0.2717\n",
      "Epoch 3/50\n",
      "55/55 [==============================] - 164s 3s/step - loss: 1.6005 - accuracy: 0.2390 - val_loss: 1.5858 - val_accuracy: 0.2717\n",
      "Epoch 4/50\n",
      "55/55 [==============================] - 158s 3s/step - loss: 1.5854 - accuracy: 0.2818 - val_loss: 1.4011 - val_accuracy: 0.4674\n",
      "Epoch 5/50\n",
      "55/55 [==============================] - 173s 3s/step - loss: 1.4547 - accuracy: 0.4042 - val_loss: 1.0721 - val_accuracy: 0.6087\n",
      "Epoch 6/50\n",
      "55/55 [==============================] - 165s 3s/step - loss: 1.3246 - accuracy: 0.4827 - val_loss: 1.0515 - val_accuracy: 0.6413\n",
      "Epoch 7/50\n",
      "55/55 [==============================] - 160s 3s/step - loss: 1.1832 - accuracy: 0.5358 - val_loss: 0.8746 - val_accuracy: 0.6848\n",
      "Epoch 8/50\n",
      "55/55 [==============================] - 179s 3s/step - loss: 1.1682 - accuracy: 0.5577 - val_loss: 0.9098 - val_accuracy: 0.7391\n",
      "Epoch 9/50\n",
      "55/55 [==============================] - 147s 3s/step - loss: 1.0466 - accuracy: 0.6097 - val_loss: 0.7512 - val_accuracy: 0.7609\n",
      "Epoch 10/50\n",
      "55/55 [==============================] - 180s 3s/step - loss: 0.9534 - accuracy: 0.6524 - val_loss: 0.6190 - val_accuracy: 0.8043\n",
      "Epoch 11/50\n",
      "55/55 [==============================] - 211s 4s/step - loss: 0.9119 - accuracy: 0.6628 - val_loss: 0.5425 - val_accuracy: 0.8043\n",
      "Epoch 12/50\n",
      "55/55 [==============================] - 172s 3s/step - loss: 0.8667 - accuracy: 0.6755 - val_loss: 0.4804 - val_accuracy: 0.8043\n",
      "Epoch 13/50\n",
      "55/55 [==============================] - 152s 3s/step - loss: 0.7870 - accuracy: 0.7009 - val_loss: 0.5243 - val_accuracy: 0.8043\n",
      "Epoch 14/50\n",
      "55/55 [==============================] - 155s 3s/step - loss: 0.7114 - accuracy: 0.7379 - val_loss: 0.4575 - val_accuracy: 0.8261\n",
      "Epoch 15/50\n",
      "55/55 [==============================] - 152s 3s/step - loss: 0.6442 - accuracy: 0.7667 - val_loss: 0.3896 - val_accuracy: 0.8261\n",
      "Epoch 16/50\n",
      "55/55 [==============================] - 482s 9s/step - loss: 0.5672 - accuracy: 0.8014 - val_loss: 0.4110 - val_accuracy: 0.8370\n",
      "Epoch 17/50\n",
      "55/55 [==============================] - 163s 3s/step - loss: 0.5569 - accuracy: 0.8037 - val_loss: 0.3920 - val_accuracy: 0.8370\n",
      "Epoch 18/50\n",
      "55/55 [==============================] - 175s 3s/step - loss: 0.5089 - accuracy: 0.8430 - val_loss: 0.3528 - val_accuracy: 0.8370\n",
      "Epoch 19/50\n",
      "55/55 [==============================] - 140s 3s/step - loss: 0.5265 - accuracy: 0.8060 - val_loss: 0.3350 - val_accuracy: 0.8804\n",
      "Epoch 20/50\n",
      "55/55 [==============================] - 158s 3s/step - loss: 0.4310 - accuracy: 0.8684 - val_loss: 0.3463 - val_accuracy: 0.8478\n",
      "Epoch 21/50\n",
      "55/55 [==============================] - 159s 3s/step - loss: 0.4371 - accuracy: 0.8533 - val_loss: 0.3550 - val_accuracy: 0.8913\n",
      "Epoch 22/50\n",
      "55/55 [==============================] - 143s 3s/step - loss: 0.3555 - accuracy: 0.8695 - val_loss: 0.3888 - val_accuracy: 0.8804\n",
      "Epoch 23/50\n",
      "55/55 [==============================] - 143s 3s/step - loss: 0.3322 - accuracy: 0.8961 - val_loss: 0.3436 - val_accuracy: 0.8804\n",
      "Epoch 24/50\n",
      "55/55 [==============================] - 164s 3s/step - loss: 0.3526 - accuracy: 0.8799 - val_loss: 0.4593 - val_accuracy: 0.8587\n",
      "Epoch 25/50\n",
      "55/55 [==============================] - 175s 3s/step - loss: 0.2817 - accuracy: 0.9007 - val_loss: 0.3482 - val_accuracy: 0.8696\n",
      "Epoch 26/50\n",
      "55/55 [==============================] - 175s 3s/step - loss: 0.3016 - accuracy: 0.8891 - val_loss: 0.3103 - val_accuracy: 0.8696\n",
      "Epoch 27/50\n",
      "55/55 [==============================] - 194s 4s/step - loss: 0.2571 - accuracy: 0.9053 - val_loss: 0.3304 - val_accuracy: 0.8913\n",
      "Epoch 28/50\n",
      "55/55 [==============================] - 179s 3s/step - loss: 0.2765 - accuracy: 0.9065 - val_loss: 0.3516 - val_accuracy: 0.8804\n",
      "Epoch 29/50\n",
      "55/55 [==============================] - 201s 4s/step - loss: 0.2443 - accuracy: 0.9215 - val_loss: 0.3781 - val_accuracy: 0.8696\n",
      "Epoch 30/50\n",
      "55/55 [==============================] - 172s 3s/step - loss: 0.2020 - accuracy: 0.9400 - val_loss: 0.2748 - val_accuracy: 0.9239\n",
      "Epoch 31/50\n",
      "55/55 [==============================] - 148s 3s/step - loss: 0.1960 - accuracy: 0.9400 - val_loss: 0.4705 - val_accuracy: 0.8478\n",
      "Epoch 32/50\n",
      "55/55 [==============================] - 152s 3s/step - loss: 0.2400 - accuracy: 0.9249 - val_loss: 0.3581 - val_accuracy: 0.8696\n",
      "Epoch 33/50\n",
      "55/55 [==============================] - 156s 3s/step - loss: 0.2233 - accuracy: 0.9249 - val_loss: 0.3367 - val_accuracy: 0.8913\n",
      "Epoch 34/50\n",
      "55/55 [==============================] - 153s 3s/step - loss: 0.1791 - accuracy: 0.9515 - val_loss: 0.3849 - val_accuracy: 0.8587\n",
      "Epoch 35/50\n",
      "55/55 [==============================] - 175s 3s/step - loss: 0.1402 - accuracy: 0.9561 - val_loss: 0.3569 - val_accuracy: 0.8478\n",
      "Epoch 36/50\n",
      "55/55 [==============================] - 170s 3s/step - loss: 0.1792 - accuracy: 0.9469 - val_loss: 0.2652 - val_accuracy: 0.8804\n",
      "Epoch 37/50\n",
      "55/55 [==============================] - 180s 3s/step - loss: 0.1529 - accuracy: 0.9527 - val_loss: 0.2829 - val_accuracy: 0.9022\n",
      "Epoch 38/50\n",
      "55/55 [==============================] - 174s 3s/step - loss: 0.1306 - accuracy: 0.9619 - val_loss: 0.3924 - val_accuracy: 0.8913\n",
      "Epoch 39/50\n",
      "55/55 [==============================] - 147s 3s/step - loss: 0.0940 - accuracy: 0.9677 - val_loss: 0.3668 - val_accuracy: 0.8587\n",
      "Epoch 40/50\n",
      "55/55 [==============================] - 190s 3s/step - loss: 0.1213 - accuracy: 0.9561 - val_loss: 0.5054 - val_accuracy: 0.8478\n",
      "Epoch 41/50\n",
      "55/55 [==============================] - 188s 3s/step - loss: 0.1130 - accuracy: 0.9619 - val_loss: 0.4206 - val_accuracy: 0.8913\n",
      "Epoch 42/50\n",
      "55/55 [==============================] - 173s 3s/step - loss: 0.1444 - accuracy: 0.9538 - val_loss: 0.3340 - val_accuracy: 0.8913\n",
      "Epoch 43/50\n",
      "55/55 [==============================] - 170s 3s/step - loss: 0.1426 - accuracy: 0.9596 - val_loss: 0.3766 - val_accuracy: 0.9022\n",
      "Epoch 44/50\n",
      "55/55 [==============================] - 172s 3s/step - loss: 0.1557 - accuracy: 0.9503 - val_loss: 0.4332 - val_accuracy: 0.8804\n",
      "Epoch 45/50\n",
      "55/55 [==============================] - 179s 3s/step - loss: 0.1440 - accuracy: 0.9607 - val_loss: 0.2930 - val_accuracy: 0.9130\n",
      "Epoch 46/50\n",
      "55/55 [==============================] - 162s 3s/step - loss: 0.1486 - accuracy: 0.9492 - val_loss: 0.2570 - val_accuracy: 0.9130\n",
      "Epoch 47/50\n",
      "55/55 [==============================] - 172s 3s/step - loss: 0.0975 - accuracy: 0.9746 - val_loss: 0.4074 - val_accuracy: 0.8587\n",
      "Epoch 48/50\n",
      "55/55 [==============================] - 2051s 38s/step - loss: 0.0934 - accuracy: 0.9677 - val_loss: 0.4080 - val_accuracy: 0.8913\n",
      "Epoch 49/50\n",
      "55/55 [==============================] - 314s 6s/step - loss: 0.0894 - accuracy: 0.9769 - val_loss: 0.3768 - val_accuracy: 0.8804\n",
      "Epoch 50/50\n",
      "55/55 [==============================] - 1299s 24s/step - loss: 0.1205 - accuracy: 0.9630 - val_loss: 0.2776 - val_accuracy: 0.9239\n"
     ]
    }
   ],
   "source": [
    "history = model.fit(train_generator, epochs = epochs,validation_data = validation_generator)\n"
   ]
  },
  {
   "cell_type": "markdown",
   "id": "02720b83",
   "metadata": {},
   "source": [
    "# Accuracy and Loss Plot"
   ]
  },
  {
   "cell_type": "code",
   "execution_count": 22,
   "id": "ddd17cc8",
   "metadata": {},
   "outputs": [
    {
     "data": {
      "image/png": "[encoded data removed]",
      "text/plain": [
       "<Figure size 864x288 with 2 Axes>"
      ]
     },
     "metadata": {
      "needs_background": "light"
     },
     "output_type": "display_data"
    }
   ],
   "source": [
    "fig , ax = plt.subplots(1,2)\n",
    "train_acc = history.history['accuracy']\n",
    "train_loss = history.history['loss']\n",
    "fig.set_size_inches(12,4)\n",
    "\n",
    "ax[0].plot(history.history['accuracy'])\n",
    "ax[0].plot(history.history['val_accuracy'])\n",
    "ax[0].set_title('Training Accuracy vs Validation Accuracy')\n",
    "ax[0].set_ylabel('Accuracy')\n",
    "ax[0].set_xlabel('Epoch')\n",
    "ax[0].legend(['Train', 'Validation'], loc='upper left')\n",
    "\n",
    "ax[1].plot(history.history['loss'])\n",
    "ax[1].plot(history.history['val_loss'])\n",
    "ax[1].set_title('Training Loss vs Validation Loss')\n",
    "ax[1].set_ylabel('Loss')\n",
    "ax[1].set_xlabel('Epoch')\n",
    "ax[1].legend(['Train', 'Validation'], loc='upper left')\n",
    "\n",
    "plt.show()"
   ]
  },
  {
   "cell_type": "code",
   "execution_count": 57,
   "id": "e660b507",
   "metadata": {},
   "outputs": [
    {
     "name": "stdout",
     "output_type": "stream",
     "text": [
      "\r",
      " 1/55 [..............................] - ETA: 4:46 - loss: 0.0739 - accuracy: 0.9375"
     ]
    },
    {
     "name": "stderr",
     "output_type": "stream",
     "text": [
      "/Users/areejalhuthali/opt/anaconda3/lib/python3.9/site-packages/PIL/Image.py:945: UserWarning: Palette images with Transparency expressed in bytes should be converted to RGBA images\n",
      "  warnings.warn(\n"
     ]
    },
    {
     "name": "stdout",
     "output_type": "stream",
     "text": [
      "55/55 [==============================] - 40s 651ms/step - loss: 0.0185 - accuracy: 0.9965\n",
      "3/3 [==============================] - 5s 1s/step - loss: 0.2776 - accuracy: 0.9239\n",
      "final train accuracy = 99.65 , validation accuracy = 92.39\n"
     ]
    }
   ],
   "source": [
    "train_loss, train_acc = model.evaluate(train_generator)\n",
    "test_loss, test_acc   = model.evaluate(validation_generator)\n",
    "print(\"final train accuracy = {:.2f} , validation accuracy = {:.2f}\".format(train_acc*100, test_acc*100))"
   ]
  },
  {
   "cell_type": "markdown",
   "id": "3a000d76",
   "metadata": {},
   "source": [
    "# Extract the label from the validition"
   ]
  },
  {
   "cell_type": "code",
   "execution_count": 58,
   "id": "58d8d09d",
   "metadata": {},
   "outputs": [],
   "source": [
    "y_val_org=[]\n",
    "for i in range(validation_generator.__len__()):\n",
    "    y_val_org.extend(\n",
    "        validation_generator.__getitem__(i)[1]\n",
    "    )\n",
    "y_val_org=np.array(y_val_org)\n",
    "y_val_org=np.argmax(y_val_org,axis=1)\n"
   ]
  },
  {
   "cell_type": "code",
   "execution_count": 59,
   "id": "e2cd7740",
   "metadata": {},
   "outputs": [
    {
     "data": {
      "text/plain": [
       "array([0, 1, 1, 0, 4, 2, 0, 3, 2, 4, 2, 2, 4, 4, 1, 2, 0, 4, 4, 2, 3, 0,\n",
       "       3, 2, 0, 0, 1, 1, 2, 2, 2, 0, 1, 4, 1, 3, 2, 4, 1, 3, 3, 2, 4, 4,\n",
       "       4, 0, 0, 0, 2, 4, 1, 2, 1, 1, 4, 1, 4, 0, 3, 3, 3, 4, 2, 2, 3, 4,\n",
       "       2, 4, 2, 1, 3, 3, 0, 2, 0, 4, 2, 1, 2, 0, 1, 0, 4, 2, 0, 4, 4, 2,\n",
       "       0, 1, 3, 0])"
      ]
     },
     "execution_count": 59,
     "metadata": {},
     "output_type": "execute_result"
    }
   ],
   "source": [
    "y_val_org"
   ]
  },
  {
   "cell_type": "markdown",
   "id": "d480eea1",
   "metadata": {},
   "source": [
    "# predication of validation"
   ]
  },
  {
   "cell_type": "code",
   "execution_count": 60,
   "id": "83964744",
   "metadata": {},
   "outputs": [
    {
     "name": "stdout",
     "output_type": "stream",
     "text": [
      "3/3 [==============================] - 5s 1s/step\n"
     ]
    },
    {
     "data": {
      "text/plain": [
       "array([[1.00000000e+00, 1.99894745e-12, 6.58947272e-11, 6.05388137e-18,\n",
       "        1.32257690e-13],\n",
       "       [1.13707495e-06, 5.74035570e-03, 6.01270061e-04, 1.10397290e-03,\n",
       "        9.92553294e-01],\n",
       "       [1.32300382e-09, 9.99750435e-01, 2.33293243e-08, 8.72634075e-07,\n",
       "        2.48767727e-04],\n",
       "       [1.00000000e+00, 2.55149504e-12, 6.19538154e-09, 1.49525761e-14,\n",
       "        1.06475710e-10],\n",
       "       [3.80258053e-03, 8.19854718e-03, 7.74233020e-04, 8.32159480e-04,\n",
       "        9.86392438e-01],\n",
       "       [6.60755420e-16, 1.27267627e-10, 1.00000000e+00, 4.29744895e-18,\n",
       "        6.24887376e-15],\n",
       "       [9.99998450e-01, 2.83896743e-11, 1.52517748e-06, 4.81945687e-14,\n",
       "        5.05330444e-09],\n",
       "       [1.34967463e-11, 3.00456236e-07, 1.91876666e-13, 9.99999642e-01,\n",
       "        2.62334887e-09],\n",
       "       [6.72583847e-05, 8.36044492e-05, 9.99792159e-01, 1.43614670e-05,\n",
       "        4.27031337e-05],\n",
       "       [5.07812249e-04, 2.55036307e-03, 3.39129716e-02, 5.71694291e-05,\n",
       "        9.62971687e-01],\n",
       "       [4.17637324e-07, 1.68911413e-07, 9.99940515e-01, 3.58456816e-07,\n",
       "        5.85044436e-05],\n",
       "       [3.89562774e-06, 1.91230046e-10, 9.99950767e-01, 1.87259150e-08,\n",
       "        4.52496970e-05],\n",
       "       [2.90769731e-05, 1.71260981e-04, 5.45032606e-07, 6.40412452e-08,\n",
       "        9.99799073e-01],\n",
       "       [2.94567059e-07, 2.55846313e-08, 1.75150543e-08, 7.17241370e-13,\n",
       "        9.99999642e-01],\n",
       "       [1.70532090e-07, 9.99166489e-01, 1.51968823e-06, 2.45220576e-07,\n",
       "        8.31611396e-04],\n",
       "       [6.06664935e-12, 7.44546345e-18, 1.00000000e+00, 2.23413658e-17,\n",
       "        1.54555112e-12],\n",
       "       [9.99994755e-01, 3.55372350e-12, 5.29364524e-06, 9.36515449e-12,\n",
       "        2.25296344e-12],\n",
       "       [1.13544013e-06, 3.86823899e-07, 2.85099214e-03, 1.53600761e-11,\n",
       "        9.97147501e-01],\n",
       "       [3.05798341e-04, 1.05171781e-02, 3.85547499e-03, 6.24285860e-07,\n",
       "        9.85320985e-01],\n",
       "       [3.74734489e-04, 3.91635835e-01, 6.07672930e-01, 9.88485112e-07,\n",
       "        3.15538229e-04],\n",
       "       [5.19572043e-14, 6.04010064e-10, 1.13844733e-15, 1.00000000e+00,\n",
       "        2.75994626e-11],\n",
       "       [1.00000000e+00, 3.02514352e-26, 6.66838234e-22, 1.05367760e-33,\n",
       "        9.71660438e-26],\n",
       "       [3.39986315e-07, 2.41305286e-04, 5.68112682e-07, 9.99737799e-01,\n",
       "        1.99134975e-05],\n",
       "       [8.37392054e-06, 7.72251967e-12, 9.99991655e-01, 8.49226763e-14,\n",
       "        1.14541432e-11],\n",
       "       [9.99999642e-01, 1.60129424e-10, 1.86107030e-07, 7.04651927e-14,\n",
       "        6.82337600e-08],\n",
       "       [1.00000000e+00, 6.94086215e-33, 5.61391284e-27, 0.00000000e+00,\n",
       "        1.17110296e-33],\n",
       "       [3.47828122e-09, 1.03272956e-04, 2.97076218e-11, 7.34392700e-07,\n",
       "        9.99895930e-01],\n",
       "       [5.78915493e-09, 9.99980807e-01, 3.61476964e-08, 3.37607929e-07,\n",
       "        1.88173763e-05],\n",
       "       [8.51353044e-10, 3.13359351e-06, 9.99995351e-01, 5.45944431e-07,\n",
       "        9.93147523e-07],\n",
       "       [2.39495914e-02, 1.21499621e-03, 9.68826473e-01, 1.28992368e-04,\n",
       "        5.88002149e-03],\n",
       "       [1.19351526e-07, 1.23680399e-10, 9.99999881e-01, 4.54981108e-10,\n",
       "        3.06790704e-09],\n",
       "       [1.00000000e+00, 8.23079755e-16, 4.21716183e-13, 5.10011338e-19,\n",
       "        5.27516602e-14],\n",
       "       [2.53800936e-02, 6.39628887e-01, 7.04891281e-04, 9.22170747e-03,\n",
       "        3.25064451e-01],\n",
       "       [6.97617008e-12, 6.19268519e-07, 3.64285650e-11, 8.76556206e-12,\n",
       "        9.99999404e-01],\n",
       "       [3.14031122e-03, 8.84937644e-01, 1.40449835e-03, 4.14497947e-04,\n",
       "        1.10103071e-01],\n",
       "       [1.99812192e-14, 2.84720858e-11, 6.73263397e-16, 9.99999881e-01,\n",
       "        1.73336772e-07],\n",
       "       [5.74091757e-07, 1.18409037e-06, 9.99990582e-01, 1.36350104e-06,\n",
       "        6.36487584e-06],\n",
       "       [8.49164982e-16, 3.65785927e-24, 2.49308174e-25, 7.05512243e-31,\n",
       "        1.00000000e+00],\n",
       "       [4.22506779e-03, 5.90844095e-01, 5.76341758e-04, 2.46658221e-01,\n",
       "        1.57696262e-01],\n",
       "       [1.78826879e-25, 2.12676491e-12, 6.33993097e-20, 1.00000000e+00,\n",
       "        9.70583714e-16],\n",
       "       [2.77904233e-09, 3.36109963e-07, 2.75329953e-10, 9.99999046e-01,\n",
       "        5.57194483e-07],\n",
       "       [3.07947776e-04, 2.02748470e-06, 9.99674320e-01, 3.61576099e-06,\n",
       "        1.21016838e-05],\n",
       "       [7.12887384e-03, 3.43791038e-01, 1.31101441e-02, 3.03860688e-05,\n",
       "        6.35939479e-01],\n",
       "       [3.51309503e-13, 6.29670227e-09, 4.96554707e-12, 5.63741852e-17,\n",
       "        1.00000000e+00],\n",
       "       [2.58415390e-11, 2.52907189e-08, 2.89910405e-11, 7.89602596e-13,\n",
       "        1.00000000e+00],\n",
       "       [1.00000000e+00, 8.05606525e-16, 1.21011481e-16, 1.22637036e-24,\n",
       "        8.87589742e-20],\n",
       "       [1.00000000e+00, 7.12903571e-23, 2.62806414e-15, 5.42452806e-27,\n",
       "        2.38917285e-18],\n",
       "       [1.00000000e+00, 3.99346023e-09, 1.78145901e-11, 6.74366234e-16,\n",
       "        3.57892915e-13],\n",
       "       [1.22373625e-10, 1.43891890e-14, 1.00000000e+00, 5.51713375e-16,\n",
       "        7.40432072e-15],\n",
       "       [1.22500041e-05, 1.08194095e-03, 7.18472890e-08, 1.50263251e-08,\n",
       "        9.98905659e-01],\n",
       "       [4.17870542e-05, 9.98680890e-01, 1.03311522e-05, 1.75865054e-07,\n",
       "        1.26685109e-03],\n",
       "       [2.35745257e-16, 3.97774431e-14, 1.00000000e+00, 2.81537573e-14,\n",
       "        5.33079021e-16],\n",
       "       [7.14762109e-07, 7.82003760e-01, 1.09350562e-09, 6.31226669e-07,\n",
       "        2.17994854e-01],\n",
       "       [1.48271251e-16, 9.99983311e-01, 1.21383428e-17, 1.23781465e-14,\n",
       "        1.66578375e-05],\n",
       "       [1.64771086e-09, 1.73285675e-13, 5.56110334e-13, 1.01086513e-16,\n",
       "        1.00000000e+00],\n",
       "       [6.27115488e-01, 1.10419452e-01, 1.17431749e-02, 2.54916996e-02,\n",
       "        2.25230142e-01],\n",
       "       [6.11506966e-16, 1.45711210e-09, 1.37307707e-16, 7.04892973e-25,\n",
       "        1.00000000e+00],\n",
       "       [1.00000000e+00, 1.88228549e-33, 5.50996371e-23, 0.00000000e+00,\n",
       "        2.16477403e-30],\n",
       "       [1.77273071e-10, 4.79066221e-04, 4.83426355e-11, 9.99520659e-01,\n",
       "        1.90945102e-07],\n",
       "       [4.51636266e-35, 2.55008374e-16, 1.77268693e-26, 1.00000000e+00,\n",
       "        2.33051290e-15],\n",
       "       [6.90645095e-07, 7.58214714e-03, 2.53016769e-05, 9.16114926e-01,\n",
       "        7.62769058e-02],\n",
       "       [3.49920204e-09, 1.07836172e-06, 1.14375154e-09, 2.64293062e-15,\n",
       "        9.99998927e-01],\n",
       "       [2.34503030e-08, 7.45753965e-08, 9.99999881e-01, 5.94658156e-10,\n",
       "        3.31074652e-08],\n",
       "       [6.64063577e-08, 2.80038716e-06, 9.99996543e-01, 5.78611662e-07,\n",
       "        4.20927471e-08],\n",
       "       [2.18281978e-21, 1.93480353e-11, 2.37115004e-18, 1.00000000e+00,\n",
       "        2.35676360e-13],\n",
       "       [6.59637444e-05, 2.31032521e-02, 5.35443291e-07, 7.89780461e-06,\n",
       "        9.76822317e-01],\n",
       "       [2.45036930e-03, 1.76350113e-05, 9.97003257e-01, 3.90209425e-05,\n",
       "        4.89671365e-04],\n",
       "       [1.71432446e-03, 7.52063930e-01, 5.59448154e-06, 1.71538801e-08,\n",
       "        2.46216163e-01],\n",
       "       [2.05050717e-04, 3.42242711e-05, 9.95693028e-01, 1.51605036e-05,\n",
       "        4.05252492e-03],\n",
       "       [1.25259696e-08, 9.99986172e-01, 1.46757230e-07, 7.59566092e-07,\n",
       "        1.29591645e-05],\n",
       "       [7.72582866e-12, 1.17777607e-04, 4.50954696e-09, 9.99882221e-01,\n",
       "        3.05189984e-09],\n",
       "       [7.33254254e-20, 6.90947033e-09, 2.30562732e-17, 1.00000000e+00,\n",
       "        3.41337597e-10],\n",
       "       [2.18726352e-01, 9.51501136e-08, 7.80284226e-01, 1.82798345e-08,\n",
       "        9.89299617e-04],\n",
       "       [3.41295845e-06, 4.11819371e-07, 9.90559220e-01, 3.77095233e-07,\n",
       "        9.43657570e-03],\n",
       "       [9.79802668e-01, 3.78021014e-07, 2.01930869e-02, 3.27448824e-08,\n",
       "        3.68592009e-06],\n",
       "       [2.15606000e-09, 3.57932822e-10, 5.91671380e-07, 9.27275237e-16,\n",
       "        9.99999404e-01],\n",
       "       [3.05633969e-12, 1.92889921e-13, 9.99998450e-01, 1.71996911e-13,\n",
       "        1.58235605e-06],\n",
       "       [2.83140149e-02, 4.16716099e-01, 5.21605543e-05, 2.76383915e-04,\n",
       "        5.54641366e-01],\n",
       "       [2.74713835e-10, 9.29452557e-11, 1.00000000e+00, 1.09654104e-12,\n",
       "        4.03423472e-09],\n",
       "       [9.99999404e-01, 2.14479701e-09, 6.47749857e-07, 6.96674662e-11,\n",
       "        4.11205595e-14],\n",
       "       [2.74852682e-02, 9.25975680e-01, 4.11344096e-02, 3.16380407e-03,\n",
       "        2.24081194e-03],\n",
       "       [9.99998212e-01, 1.55323902e-18, 1.76067886e-06, 2.50550063e-17,\n",
       "        4.44135017e-13],\n",
       "       [5.18623339e-11, 1.01984449e-10, 7.62238438e-16, 1.03617357e-21,\n",
       "        1.00000000e+00],\n",
       "       [1.78963171e-06, 3.28694550e-05, 9.99962568e-01, 2.22373296e-06,\n",
       "        5.60813646e-07],\n",
       "       [1.00000000e+00, 1.62843712e-16, 6.63526647e-15, 1.01215808e-23,\n",
       "        1.62985990e-24],\n",
       "       [7.35458916e-12, 8.74984991e-08, 8.96395892e-12, 2.59750160e-18,\n",
       "        9.99999881e-01],\n",
       "       [5.70703566e-01, 7.55987270e-03, 2.24136651e-01, 1.21474892e-01,\n",
       "        7.61250108e-02],\n",
       "       [5.25361315e-07, 1.19305410e-08, 9.99270976e-01, 1.52413602e-08,\n",
       "        7.28514686e-04],\n",
       "       [9.99993205e-01, 4.63431491e-07, 4.51943606e-06, 4.13853396e-09,\n",
       "        1.80886695e-06],\n",
       "       [1.22483994e-19, 1.00000000e+00, 1.51953429e-22, 1.19797151e-15,\n",
       "        1.56923494e-15],\n",
       "       [8.33713517e-23, 7.74241019e-11, 7.43883767e-21, 1.00000000e+00,\n",
       "        1.40527618e-13],\n",
       "       [9.99520659e-01, 3.49664715e-13, 4.79365321e-04, 1.90353013e-08,\n",
       "        1.89167800e-14]], dtype=float32)"
      ]
     },
     "execution_count": 60,
     "metadata": {},
     "output_type": "execute_result"
    }
   ],
   "source": [
    "predication=model.predict(validation_generator)\n",
    "predication"
   ]
  },
  {
   "cell_type": "markdown",
   "id": "579f79b1",
   "metadata": {},
   "source": [
    "# convert predication into label"
   ]
  },
  {
   "cell_type": "code",
   "execution_count": 64,
   "id": "72e52d2c",
   "metadata": {},
   "outputs": [
    {
     "data": {
      "text/plain": [
       "[0,\n",
       " 4,\n",
       " 1,\n",
       " 0,\n",
       " 4,\n",
       " 2,\n",
       " 0,\n",
       " 3,\n",
       " 2,\n",
       " 4,\n",
       " 2,\n",
       " 2,\n",
       " 4,\n",
       " 4,\n",
       " 1,\n",
       " 2,\n",
       " 0,\n",
       " 4,\n",
       " 4,\n",
       " 2,\n",
       " 3,\n",
       " 0,\n",
       " 3,\n",
       " 2,\n",
       " 0,\n",
       " 0,\n",
       " 4,\n",
       " 1,\n",
       " 2,\n",
       " 2,\n",
       " 2,\n",
       " 0,\n",
       " 1,\n",
       " 4,\n",
       " 1,\n",
       " 3,\n",
       " 2,\n",
       " 4,\n",
       " 1,\n",
       " 3,\n",
       " 3,\n",
       " 2,\n",
       " 4,\n",
       " 4,\n",
       " 4,\n",
       " 0,\n",
       " 0,\n",
       " 0,\n",
       " 2,\n",
       " 4,\n",
       " 1,\n",
       " 2,\n",
       " 1,\n",
       " 1,\n",
       " 4,\n",
       " 0,\n",
       " 4,\n",
       " 0,\n",
       " 3,\n",
       " 3,\n",
       " 3,\n",
       " 4,\n",
       " 2,\n",
       " 2,\n",
       " 3,\n",
       " 4,\n",
       " 2,\n",
       " 1,\n",
       " 2,\n",
       " 1,\n",
       " 3,\n",
       " 3,\n",
       " 2,\n",
       " 2,\n",
       " 0,\n",
       " 4,\n",
       " 2,\n",
       " 4,\n",
       " 2,\n",
       " 0,\n",
       " 1,\n",
       " 0,\n",
       " 4,\n",
       " 2,\n",
       " 0,\n",
       " 4,\n",
       " 0,\n",
       " 2,\n",
       " 0,\n",
       " 1,\n",
       " 3,\n",
       " 0]"
      ]
     },
     "execution_count": 64,
     "metadata": {},
     "output_type": "execute_result"
    }
   ],
   "source": [
    "prediction_classes=[np.argmax(element)for element in predication]\n",
    "prediction_classes"
   ]
  },
  {
   "cell_type": "markdown",
   "id": "528a7dc8",
   "metadata": {},
   "source": [
    "# classification Report"
   ]
  },
  {
   "cell_type": "code",
   "execution_count": 67,
   "id": "5632e605",
   "metadata": {},
   "outputs": [
    {
     "name": "stdout",
     "output_type": "stream",
     "text": [
      "              precision    recall  f1-score   support\n",
      "\n",
      "           0       0.90      0.95      0.92        19\n",
      "           1       0.92      0.75      0.83        16\n",
      "           2       0.96      1.00      0.98        23\n",
      "           3       1.00      1.00      1.00        13\n",
      "           4       0.86      0.90      0.88        21\n",
      "\n",
      "    accuracy                           0.92        92\n",
      "   macro avg       0.93      0.92      0.92        92\n",
      "weighted avg       0.92      0.92      0.92        92\n",
      "\n"
     ]
    }
   ],
   "source": [
    "print(classification_report(y_val_org,prediction_classes))"
   ]
  },
  {
   "cell_type": "markdown",
   "id": "47b040e8",
   "metadata": {},
   "source": [
    "# Testing"
   ]
  },
  {
   "cell_type": "code",
   "execution_count": 174,
   "id": "9a3d894d",
   "metadata": {},
   "outputs": [],
   "source": [
    "from PIL import Image\n",
    "from tensorflow.keras.preprocessing import image \n",
    "from keras.models import load_model\n",
    "from keras.applications.vgg16 import preprocess_input\n",
    "img = image.load_img('TEST/plank/00000000.jpg', target_size=(224, 224))"
   ]
  },
  {
   "cell_type": "code",
   "execution_count": 175,
   "id": "9d9ac99a",
   "metadata": {},
   "outputs": [
    {
     "data": {
      "text/plain": [
       "<matplotlib.image.AxesImage at 0x7fdcbb2ca0d0>"
      ]
     },
     "execution_count": 175,
     "metadata": {},
     "output_type": "execute_result"
    },
    {
     "data": {
      "image/png": "[encoded data removed]",
      "text/plain": [
       "<Figure size 432x288 with 1 Axes>"
      ]
     },
     "metadata": {
      "needs_background": "light"
     },
     "output_type": "display_data"
    }
   ],
   "source": [
    "#true image ('goddess')\n",
    "plt.imshow(img)"
   ]
  },
  {
   "cell_type": "code",
   "execution_count": 176,
   "id": "839f9887",
   "metadata": {},
   "outputs": [
    {
     "name": "stdout",
     "output_type": "stream",
     "text": [
      "1/1 [==============================] - 3s 3s/step\n",
      "[[0. 0. 1. 0. 0.]]\n"
     ]
    }
   ],
   "source": [
    "\n",
    "x = image.img_to_array(img)\n",
    "x = np.expand_dims(x, axis=0)\n",
    "img_data = preprocess_input(x)\n",
    "classes = model.predict(img_data)\n",
    "print(classes) "
   ]
  },
  {
   "cell_type": "code",
   "execution_count": null,
   "id": "ca7b17c0",
   "metadata": {},
   "outputs": [],
   "source": []
  }
 ],
 "metadata": {
  "kernelspec": {
   "display_name": "Python 3 (ipykernel)",
   "language": "python",
   "name": "python3"
  },
  "language_info": {
   "codemirror_mode": {
    "name": "ipython",
    "version": 3
   },
   "file_extension": ".py",
   "mimetype": "text/x-python",
   "name": "python",
   "nbconvert_exporter": "python",
   "pygments_lexer": "ipython3",
   "version": "3.9.12"
  }
 },
 "nbformat": 4,
 "nbformat_minor": 5
}
